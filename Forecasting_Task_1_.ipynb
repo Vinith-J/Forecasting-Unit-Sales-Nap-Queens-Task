{
 "cells": [
  {
   "cell_type": "markdown",
   "id": "7f295ab0-f543-4382-9c49-dc6b42a1f47d",
   "metadata": {},
   "source": [
    "# Forecasting Unit Sales (Task 1) "
   ]
  },
  {
   "cell_type": "code",
   "execution_count": 80,
   "id": "5b6ca2e0-dbf0-4e0f-be6c-38bde6fcba8e",
   "metadata": {},
   "outputs": [],
   "source": [
    "import numpy as np \n",
    "import pandas as pd \n",
    "import matplotlib.pyplot as plt\n",
    "import seaborn as sns\n",
    "from datetime import datetime\n",
    "import xgboost as xgb\n",
    "from sklearn.metrics import mean_squared_error\n",
    "from sklearn.model_selection import train_test_split, GridSearchCV\n",
    "import warnings\n",
    "warnings.filterwarnings('ignore')\n",
    "\n",
    "color_pal = sns.color_palette()\n",
    "%matplotlib inline"
   ]
  },
  {
   "cell_type": "code",
   "execution_count": 2,
   "id": "3b0a283b-e0af-484b-ac01-6046ca65f14e",
   "metadata": {},
   "outputs": [],
   "source": [
    "train_df = pd.read_csv('train.csv')\n",
    "test_df = pd.read_csv('test.csv')"
   ]
  },
  {
   "cell_type": "markdown",
   "id": "e5b9444b-47e6-40ac-a818-d01f4e3c1d1b",
   "metadata": {},
   "source": [
    "# Step 1: Data Loading and Initial Inspection(Training Data)"
   ]
  },
  {
   "cell_type": "code",
   "execution_count": 3,
   "id": "0290931a-8917-439d-8d67-93bb1161a222",
   "metadata": {},
   "outputs": [
    {
     "data": {
      "text/html": [
       "<div>\n",
       "<style scoped>\n",
       "    .dataframe tbody tr th:only-of-type {\n",
       "        vertical-align: middle;\n",
       "    }\n",
       "\n",
       "    .dataframe tbody tr th {\n",
       "        vertical-align: top;\n",
       "    }\n",
       "\n",
       "    .dataframe thead th {\n",
       "        text-align: right;\n",
       "    }\n",
       "</style>\n",
       "<table border=\"1\" class=\"dataframe\">\n",
       "  <thead>\n",
       "    <tr style=\"text-align: right;\">\n",
       "      <th></th>\n",
       "      <th>ID</th>\n",
       "      <th>date</th>\n",
       "      <th>Item Id</th>\n",
       "      <th>Item Name</th>\n",
       "      <th>ad_spend</th>\n",
       "      <th>anarix_id</th>\n",
       "      <th>units</th>\n",
       "      <th>unit_price</th>\n",
       "    </tr>\n",
       "  </thead>\n",
       "  <tbody>\n",
       "    <tr>\n",
       "      <th>0</th>\n",
       "      <td>2022-04-12_B09KDTS4DC</td>\n",
       "      <td>2022-04-12</td>\n",
       "      <td>B09KDTS4DC</td>\n",
       "      <td>NapQueen Elizabeth 8\" Gel Memory Foam Mattress...</td>\n",
       "      <td>NaN</td>\n",
       "      <td>NAPQUEEN</td>\n",
       "      <td>0.0</td>\n",
       "      <td>0.0</td>\n",
       "    </tr>\n",
       "    <tr>\n",
       "      <th>1</th>\n",
       "      <td>2022-04-12_B09MR2MLZH</td>\n",
       "      <td>2022-04-12</td>\n",
       "      <td>B09MR2MLZH</td>\n",
       "      <td>NapQueen 12 Inch Bamboo Charcoal Queen Size Me...</td>\n",
       "      <td>NaN</td>\n",
       "      <td>NAPQUEEN</td>\n",
       "      <td>0.0</td>\n",
       "      <td>0.0</td>\n",
       "    </tr>\n",
       "    <tr>\n",
       "      <th>2</th>\n",
       "      <td>2022-04-12_B09KSYL73R</td>\n",
       "      <td>2022-04-12</td>\n",
       "      <td>B09KSYL73R</td>\n",
       "      <td>NapQueen Elsa 8\" Innerspring Mattress, Twin XL</td>\n",
       "      <td>NaN</td>\n",
       "      <td>NAPQUEEN</td>\n",
       "      <td>0.0</td>\n",
       "      <td>0.0</td>\n",
       "    </tr>\n",
       "    <tr>\n",
       "      <th>3</th>\n",
       "      <td>2022-04-12_B09KT5HMNY</td>\n",
       "      <td>2022-04-12</td>\n",
       "      <td>B09KT5HMNY</td>\n",
       "      <td>NapQueen Elsa 6\" Innerspring Mattress, Twin</td>\n",
       "      <td>NaN</td>\n",
       "      <td>NAPQUEEN</td>\n",
       "      <td>0.0</td>\n",
       "      <td>0.0</td>\n",
       "    </tr>\n",
       "    <tr>\n",
       "      <th>4</th>\n",
       "      <td>2022-04-12_B09KTF8ZDQ</td>\n",
       "      <td>2022-04-12</td>\n",
       "      <td>B09KTF8ZDQ</td>\n",
       "      <td>NapQueen Elsa 6\" Innerspring Mattress, Twin XL</td>\n",
       "      <td>NaN</td>\n",
       "      <td>NAPQUEEN</td>\n",
       "      <td>0.0</td>\n",
       "      <td>0.0</td>\n",
       "    </tr>\n",
       "  </tbody>\n",
       "</table>\n",
       "</div>"
      ],
      "text/plain": [
       "                      ID        date     Item Id  \\\n",
       "0  2022-04-12_B09KDTS4DC  2022-04-12  B09KDTS4DC   \n",
       "1  2022-04-12_B09MR2MLZH  2022-04-12  B09MR2MLZH   \n",
       "2  2022-04-12_B09KSYL73R  2022-04-12  B09KSYL73R   \n",
       "3  2022-04-12_B09KT5HMNY  2022-04-12  B09KT5HMNY   \n",
       "4  2022-04-12_B09KTF8ZDQ  2022-04-12  B09KTF8ZDQ   \n",
       "\n",
       "                                           Item Name  ad_spend anarix_id  \\\n",
       "0  NapQueen Elizabeth 8\" Gel Memory Foam Mattress...       NaN  NAPQUEEN   \n",
       "1  NapQueen 12 Inch Bamboo Charcoal Queen Size Me...       NaN  NAPQUEEN   \n",
       "2     NapQueen Elsa 8\" Innerspring Mattress, Twin XL       NaN  NAPQUEEN   \n",
       "3        NapQueen Elsa 6\" Innerspring Mattress, Twin       NaN  NAPQUEEN   \n",
       "4     NapQueen Elsa 6\" Innerspring Mattress, Twin XL       NaN  NAPQUEEN   \n",
       "\n",
       "   units  unit_price  \n",
       "0    0.0         0.0  \n",
       "1    0.0         0.0  \n",
       "2    0.0         0.0  \n",
       "3    0.0         0.0  \n",
       "4    0.0         0.0  "
      ]
     },
     "execution_count": 3,
     "metadata": {},
     "output_type": "execute_result"
    }
   ],
   "source": [
    "train_df.head()"
   ]
  },
  {
   "cell_type": "code",
   "execution_count": 4,
   "id": "6f8c8b90-ec4b-45f3-be30-749a5addce70",
   "metadata": {},
   "outputs": [
    {
     "data": {
      "text/html": [
       "<div>\n",
       "<style scoped>\n",
       "    .dataframe tbody tr th:only-of-type {\n",
       "        vertical-align: middle;\n",
       "    }\n",
       "\n",
       "    .dataframe tbody tr th {\n",
       "        vertical-align: top;\n",
       "    }\n",
       "\n",
       "    .dataframe thead th {\n",
       "        text-align: right;\n",
       "    }\n",
       "</style>\n",
       "<table border=\"1\" class=\"dataframe\">\n",
       "  <thead>\n",
       "    <tr style=\"text-align: right;\">\n",
       "      <th></th>\n",
       "      <th>ID</th>\n",
       "      <th>date</th>\n",
       "      <th>Item Id</th>\n",
       "      <th>Item Name</th>\n",
       "      <th>ad_spend</th>\n",
       "      <th>anarix_id</th>\n",
       "      <th>units</th>\n",
       "      <th>unit_price</th>\n",
       "    </tr>\n",
       "  </thead>\n",
       "  <tbody>\n",
       "    <tr>\n",
       "      <th>101485</th>\n",
       "      <td>2024-05-31_B0CR4BGLK5</td>\n",
       "      <td>2024-05-31</td>\n",
       "      <td>B0CR4BGLK5</td>\n",
       "      <td>NaN</td>\n",
       "      <td>604.73</td>\n",
       "      <td>NAPQUEEN</td>\n",
       "      <td>NaN</td>\n",
       "      <td>0.00</td>\n",
       "    </tr>\n",
       "    <tr>\n",
       "      <th>101486</th>\n",
       "      <td>2024-05-31_B0CR4BG4ZW</td>\n",
       "      <td>2024-05-31</td>\n",
       "      <td>B0CR4BG4ZW</td>\n",
       "      <td>NaN</td>\n",
       "      <td>261.21</td>\n",
       "      <td>NAPQUEEN</td>\n",
       "      <td>2.0</td>\n",
       "      <td>225.32</td>\n",
       "    </tr>\n",
       "    <tr>\n",
       "      <th>101487</th>\n",
       "      <td>2024-05-31_B0CR49NR3B</td>\n",
       "      <td>2024-05-31</td>\n",
       "      <td>B0CR49NR3B</td>\n",
       "      <td>NaN</td>\n",
       "      <td>0.00</td>\n",
       "      <td>NAPQUEEN</td>\n",
       "      <td>NaN</td>\n",
       "      <td>0.00</td>\n",
       "    </tr>\n",
       "    <tr>\n",
       "      <th>101488</th>\n",
       "      <td>2024-05-31_B0CR49N6MQ</td>\n",
       "      <td>2024-05-31</td>\n",
       "      <td>B0CR49N6MQ</td>\n",
       "      <td>NaN</td>\n",
       "      <td>0.00</td>\n",
       "      <td>NAPQUEEN</td>\n",
       "      <td>NaN</td>\n",
       "      <td>0.00</td>\n",
       "    </tr>\n",
       "    <tr>\n",
       "      <th>101489</th>\n",
       "      <td>2024-05-31_B0CR4BK4FW</td>\n",
       "      <td>2024-05-31</td>\n",
       "      <td>B0CR4BK4FW</td>\n",
       "      <td>NaN</td>\n",
       "      <td>0.00</td>\n",
       "      <td>NAPQUEEN</td>\n",
       "      <td>NaN</td>\n",
       "      <td>0.00</td>\n",
       "    </tr>\n",
       "  </tbody>\n",
       "</table>\n",
       "</div>"
      ],
      "text/plain": [
       "                           ID        date     Item Id Item Name  ad_spend  \\\n",
       "101485  2024-05-31_B0CR4BGLK5  2024-05-31  B0CR4BGLK5       NaN    604.73   \n",
       "101486  2024-05-31_B0CR4BG4ZW  2024-05-31  B0CR4BG4ZW       NaN    261.21   \n",
       "101487  2024-05-31_B0CR49NR3B  2024-05-31  B0CR49NR3B       NaN      0.00   \n",
       "101488  2024-05-31_B0CR49N6MQ  2024-05-31  B0CR49N6MQ       NaN      0.00   \n",
       "101489  2024-05-31_B0CR4BK4FW  2024-05-31  B0CR4BK4FW       NaN      0.00   \n",
       "\n",
       "       anarix_id  units  unit_price  \n",
       "101485  NAPQUEEN    NaN        0.00  \n",
       "101486  NAPQUEEN    2.0      225.32  \n",
       "101487  NAPQUEEN    NaN        0.00  \n",
       "101488  NAPQUEEN    NaN        0.00  \n",
       "101489  NAPQUEEN    NaN        0.00  "
      ]
     },
     "execution_count": 4,
     "metadata": {},
     "output_type": "execute_result"
    }
   ],
   "source": [
    "train_df.tail()"
   ]
  },
  {
   "cell_type": "code",
   "execution_count": 5,
   "id": "409ee794-df5c-455b-93e5-59bc863103a4",
   "metadata": {},
   "outputs": [
    {
     "name": "stdout",
     "output_type": "stream",
     "text": [
      "<class 'pandas.core.frame.DataFrame'>\n",
      "RangeIndex: 101490 entries, 0 to 101489\n",
      "Data columns (total 8 columns):\n",
      " #   Column      Non-Null Count   Dtype  \n",
      "---  ------      --------------   -----  \n",
      " 0   ID          101490 non-null  object \n",
      " 1   date        101490 non-null  object \n",
      " 2   Item Id     101488 non-null  object \n",
      " 3   Item Name   99658 non-null   object \n",
      " 4   ad_spend    77303 non-null   float64\n",
      " 5   anarix_id   101490 non-null  object \n",
      " 6   units       83592 non-null   float64\n",
      " 7   unit_price  101490 non-null  float64\n",
      "dtypes: float64(3), object(5)\n",
      "memory usage: 6.2+ MB\n"
     ]
    }
   ],
   "source": [
    "train_df.info()"
   ]
  },
  {
   "cell_type": "code",
   "execution_count": 6,
   "id": "c15517e3-cf5e-4983-a048-ffe51bd31715",
   "metadata": {},
   "outputs": [
    {
     "data": {
      "text/html": [
       "<div>\n",
       "<style scoped>\n",
       "    .dataframe tbody tr th:only-of-type {\n",
       "        vertical-align: middle;\n",
       "    }\n",
       "\n",
       "    .dataframe tbody tr th {\n",
       "        vertical-align: top;\n",
       "    }\n",
       "\n",
       "    .dataframe thead th {\n",
       "        text-align: right;\n",
       "    }\n",
       "</style>\n",
       "<table border=\"1\" class=\"dataframe\">\n",
       "  <thead>\n",
       "    <tr style=\"text-align: right;\">\n",
       "      <th></th>\n",
       "      <th>ad_spend</th>\n",
       "      <th>units</th>\n",
       "      <th>unit_price</th>\n",
       "    </tr>\n",
       "  </thead>\n",
       "  <tbody>\n",
       "    <tr>\n",
       "      <th>count</th>\n",
       "      <td>77303.000000</td>\n",
       "      <td>83592.000000</td>\n",
       "      <td>101490.000000</td>\n",
       "    </tr>\n",
       "    <tr>\n",
       "      <th>mean</th>\n",
       "      <td>110.771470</td>\n",
       "      <td>10.284381</td>\n",
       "      <td>106.750922</td>\n",
       "    </tr>\n",
       "    <tr>\n",
       "      <th>std</th>\n",
       "      <td>529.303777</td>\n",
       "      <td>68.945915</td>\n",
       "      <td>425.704733</td>\n",
       "    </tr>\n",
       "    <tr>\n",
       "      <th>min</th>\n",
       "      <td>0.000000</td>\n",
       "      <td>-173.000000</td>\n",
       "      <td>-8232.000000</td>\n",
       "    </tr>\n",
       "    <tr>\n",
       "      <th>25%</th>\n",
       "      <td>0.000000</td>\n",
       "      <td>0.000000</td>\n",
       "      <td>0.000000</td>\n",
       "    </tr>\n",
       "    <tr>\n",
       "      <th>50%</th>\n",
       "      <td>4.230000</td>\n",
       "      <td>1.000000</td>\n",
       "      <td>0.000000</td>\n",
       "    </tr>\n",
       "    <tr>\n",
       "      <th>75%</th>\n",
       "      <td>44.310000</td>\n",
       "      <td>5.000000</td>\n",
       "      <td>0.000000</td>\n",
       "    </tr>\n",
       "    <tr>\n",
       "      <th>max</th>\n",
       "      <td>47934.990000</td>\n",
       "      <td>9004.000000</td>\n",
       "      <td>21557.390000</td>\n",
       "    </tr>\n",
       "  </tbody>\n",
       "</table>\n",
       "</div>"
      ],
      "text/plain": [
       "           ad_spend         units     unit_price\n",
       "count  77303.000000  83592.000000  101490.000000\n",
       "mean     110.771470     10.284381     106.750922\n",
       "std      529.303777     68.945915     425.704733\n",
       "min        0.000000   -173.000000   -8232.000000\n",
       "25%        0.000000      0.000000       0.000000\n",
       "50%        4.230000      1.000000       0.000000\n",
       "75%       44.310000      5.000000       0.000000\n",
       "max    47934.990000   9004.000000   21557.390000"
      ]
     },
     "execution_count": 6,
     "metadata": {},
     "output_type": "execute_result"
    }
   ],
   "source": [
    "train_df.describe()"
   ]
  },
  {
   "cell_type": "code",
   "execution_count": 7,
   "id": "8ed8ae2e-2b62-41f2-96d8-590e5f1e12b2",
   "metadata": {},
   "outputs": [
    {
     "data": {
      "text/plain": [
       "ID                0\n",
       "date              0\n",
       "Item Id           2\n",
       "Item Name      1832\n",
       "ad_spend      24187\n",
       "anarix_id         0\n",
       "units         17898\n",
       "unit_price        0\n",
       "dtype: int64"
      ]
     },
     "execution_count": 7,
     "metadata": {},
     "output_type": "execute_result"
    }
   ],
   "source": [
    "train_df.isnull().sum()"
   ]
  },
  {
   "cell_type": "code",
   "execution_count": 8,
   "id": "f486523b-6c0a-4ba7-875a-76d6e88c9b44",
   "metadata": {},
   "outputs": [
    {
     "name": "stdout",
     "output_type": "stream",
     "text": [
      "Unique values in 'ID': 101490\n",
      "Unique values in 'Item Id': 217\n",
      "Unique values in 'Item Name': 199\n"
     ]
    }
   ],
   "source": [
    "print(\"Unique values in 'ID':\", train_df['ID'].nunique())\n",
    "print(\"Unique values in 'Item Id':\", train_df['Item Id'].nunique())\n",
    "print(\"Unique values in 'Item Name':\", train_df['Item Name'].nunique())"
   ]
  },
  {
   "cell_type": "markdown",
   "id": "4dd1c4a8-86a0-4615-87fe-99ecbb31b1d6",
   "metadata": {},
   "source": [
    "# Step 2: Data Loading and Initial Inspection(Testing Data)"
   ]
  },
  {
   "cell_type": "code",
   "execution_count": 9,
   "id": "3d2ebc97-2d19-4ae7-be2b-a8d3175d6a7d",
   "metadata": {},
   "outputs": [
    {
     "data": {
      "text/html": [
       "<div>\n",
       "<style scoped>\n",
       "    .dataframe tbody tr th:only-of-type {\n",
       "        vertical-align: middle;\n",
       "    }\n",
       "\n",
       "    .dataframe tbody tr th {\n",
       "        vertical-align: top;\n",
       "    }\n",
       "\n",
       "    .dataframe thead th {\n",
       "        text-align: right;\n",
       "    }\n",
       "</style>\n",
       "<table border=\"1\" class=\"dataframe\">\n",
       "  <thead>\n",
       "    <tr style=\"text-align: right;\">\n",
       "      <th></th>\n",
       "      <th>ID</th>\n",
       "      <th>date</th>\n",
       "      <th>Item Id</th>\n",
       "      <th>Item Name</th>\n",
       "      <th>ad_spend</th>\n",
       "      <th>anarix_id</th>\n",
       "      <th>unit_price</th>\n",
       "    </tr>\n",
       "  </thead>\n",
       "  <tbody>\n",
       "    <tr>\n",
       "      <th>0</th>\n",
       "      <td>2024-07-01_B09KDR64LT</td>\n",
       "      <td>2024-07-01</td>\n",
       "      <td>B09KDR64LT</td>\n",
       "      <td>NapQueen Elizabeth 10\" Gel Memory Foam Mattres...</td>\n",
       "      <td>NaN</td>\n",
       "      <td>NAPQUEEN</td>\n",
       "      <td>0.0</td>\n",
       "    </tr>\n",
       "    <tr>\n",
       "      <th>1</th>\n",
       "      <td>2024-07-01_B09KDTS4DC</td>\n",
       "      <td>2024-07-01</td>\n",
       "      <td>B09KDTS4DC</td>\n",
       "      <td>NapQueen Elizabeth 8\" Gel Memory Foam Mattress...</td>\n",
       "      <td>NaN</td>\n",
       "      <td>NAPQUEEN</td>\n",
       "      <td>0.0</td>\n",
       "    </tr>\n",
       "    <tr>\n",
       "      <th>2</th>\n",
       "      <td>2024-07-01_B09KDTHJ6V</td>\n",
       "      <td>2024-07-01</td>\n",
       "      <td>B09KDTHJ6V</td>\n",
       "      <td>NapQueen Elizabeth 12\" Gel Memory Foam Mattres...</td>\n",
       "      <td>NaN</td>\n",
       "      <td>NAPQUEEN</td>\n",
       "      <td>0.0</td>\n",
       "    </tr>\n",
       "    <tr>\n",
       "      <th>3</th>\n",
       "      <td>2024-07-01_B09KDQ2BWY</td>\n",
       "      <td>2024-07-01</td>\n",
       "      <td>B09KDQ2BWY</td>\n",
       "      <td>NapQueen Elizabeth 12\" Gel Memory Foam Mattres...</td>\n",
       "      <td>NaN</td>\n",
       "      <td>NAPQUEEN</td>\n",
       "      <td>0.0</td>\n",
       "    </tr>\n",
       "    <tr>\n",
       "      <th>4</th>\n",
       "      <td>2024-07-01_B09KDYY3SB</td>\n",
       "      <td>2024-07-01</td>\n",
       "      <td>B09KDYY3SB</td>\n",
       "      <td>NapQueen Elizabeth 10\" Gel Memory Foam Mattres...</td>\n",
       "      <td>101.72</td>\n",
       "      <td>NAPQUEEN</td>\n",
       "      <td>1094.5</td>\n",
       "    </tr>\n",
       "  </tbody>\n",
       "</table>\n",
       "</div>"
      ],
      "text/plain": [
       "                      ID        date     Item Id  \\\n",
       "0  2024-07-01_B09KDR64LT  2024-07-01  B09KDR64LT   \n",
       "1  2024-07-01_B09KDTS4DC  2024-07-01  B09KDTS4DC   \n",
       "2  2024-07-01_B09KDTHJ6V  2024-07-01  B09KDTHJ6V   \n",
       "3  2024-07-01_B09KDQ2BWY  2024-07-01  B09KDQ2BWY   \n",
       "4  2024-07-01_B09KDYY3SB  2024-07-01  B09KDYY3SB   \n",
       "\n",
       "                                           Item Name  ad_spend anarix_id  \\\n",
       "0  NapQueen Elizabeth 10\" Gel Memory Foam Mattres...       NaN  NAPQUEEN   \n",
       "1  NapQueen Elizabeth 8\" Gel Memory Foam Mattress...       NaN  NAPQUEEN   \n",
       "2  NapQueen Elizabeth 12\" Gel Memory Foam Mattres...       NaN  NAPQUEEN   \n",
       "3  NapQueen Elizabeth 12\" Gel Memory Foam Mattres...       NaN  NAPQUEEN   \n",
       "4  NapQueen Elizabeth 10\" Gel Memory Foam Mattres...    101.72  NAPQUEEN   \n",
       "\n",
       "   unit_price  \n",
       "0         0.0  \n",
       "1         0.0  \n",
       "2         0.0  \n",
       "3         0.0  \n",
       "4      1094.5  "
      ]
     },
     "execution_count": 9,
     "metadata": {},
     "output_type": "execute_result"
    }
   ],
   "source": [
    "test_df.head()"
   ]
  },
  {
   "cell_type": "code",
   "execution_count": 10,
   "id": "6a85f3cc-bc0c-4a85-952f-12a442b48cc9",
   "metadata": {},
   "outputs": [
    {
     "data": {
      "text/html": [
       "<div>\n",
       "<style scoped>\n",
       "    .dataframe tbody tr th:only-of-type {\n",
       "        vertical-align: middle;\n",
       "    }\n",
       "\n",
       "    .dataframe tbody tr th {\n",
       "        vertical-align: top;\n",
       "    }\n",
       "\n",
       "    .dataframe thead th {\n",
       "        text-align: right;\n",
       "    }\n",
       "</style>\n",
       "<table border=\"1\" class=\"dataframe\">\n",
       "  <thead>\n",
       "    <tr style=\"text-align: right;\">\n",
       "      <th></th>\n",
       "      <th>ID</th>\n",
       "      <th>date</th>\n",
       "      <th>Item Id</th>\n",
       "      <th>Item Name</th>\n",
       "      <th>ad_spend</th>\n",
       "      <th>anarix_id</th>\n",
       "      <th>unit_price</th>\n",
       "    </tr>\n",
       "  </thead>\n",
       "  <tbody>\n",
       "    <tr>\n",
       "      <th>2828</th>\n",
       "      <td>2024-07-28_B0BRCW2B64</td>\n",
       "      <td>2024-07-28</td>\n",
       "      <td>B0BRCW2B64</td>\n",
       "      <td>NapQueen Anula Green Tea 12'', Queen</td>\n",
       "      <td>11.78</td>\n",
       "      <td>NAPQUEEN</td>\n",
       "      <td>0.0</td>\n",
       "    </tr>\n",
       "    <tr>\n",
       "      <th>2829</th>\n",
       "      <td>2024-07-28_B0CFV6V981</td>\n",
       "      <td>2024-07-28</td>\n",
       "      <td>B0CFV6V981</td>\n",
       "      <td>NaN</td>\n",
       "      <td>1.17</td>\n",
       "      <td>NAPQUEEN</td>\n",
       "      <td>0.0</td>\n",
       "    </tr>\n",
       "    <tr>\n",
       "      <th>2830</th>\n",
       "      <td>2024-07-28_B0BNL5BKMK</td>\n",
       "      <td>2024-07-28</td>\n",
       "      <td>B0BNL5BKMK</td>\n",
       "      <td>NapQueen 2'' Bamboo Charcoal Mattress Topper, ...</td>\n",
       "      <td>0.00</td>\n",
       "      <td>NAPQUEEN</td>\n",
       "      <td>0.0</td>\n",
       "    </tr>\n",
       "    <tr>\n",
       "      <th>2831</th>\n",
       "      <td>2024-07-28_B0CR49BQRS</td>\n",
       "      <td>2024-07-28</td>\n",
       "      <td>B0CR49BQRS</td>\n",
       "      <td>NaN</td>\n",
       "      <td>1.87</td>\n",
       "      <td>NAPQUEEN</td>\n",
       "      <td>0.0</td>\n",
       "    </tr>\n",
       "    <tr>\n",
       "      <th>2832</th>\n",
       "      <td>2024-07-28_B0CY5QQ49F</td>\n",
       "      <td>2024-07-28</td>\n",
       "      <td>B0CY5QQ49F</td>\n",
       "      <td>NaN</td>\n",
       "      <td>1.45</td>\n",
       "      <td>NAPQUEEN</td>\n",
       "      <td>0.0</td>\n",
       "    </tr>\n",
       "  </tbody>\n",
       "</table>\n",
       "</div>"
      ],
      "text/plain": [
       "                         ID        date     Item Id  \\\n",
       "2828  2024-07-28_B0BRCW2B64  2024-07-28  B0BRCW2B64   \n",
       "2829  2024-07-28_B0CFV6V981  2024-07-28  B0CFV6V981   \n",
       "2830  2024-07-28_B0BNL5BKMK  2024-07-28  B0BNL5BKMK   \n",
       "2831  2024-07-28_B0CR49BQRS  2024-07-28  B0CR49BQRS   \n",
       "2832  2024-07-28_B0CY5QQ49F  2024-07-28  B0CY5QQ49F   \n",
       "\n",
       "                                              Item Name  ad_spend anarix_id  \\\n",
       "2828               NapQueen Anula Green Tea 12'', Queen     11.78  NAPQUEEN   \n",
       "2829                                                NaN      1.17  NAPQUEEN   \n",
       "2830  NapQueen 2'' Bamboo Charcoal Mattress Topper, ...      0.00  NAPQUEEN   \n",
       "2831                                                NaN      1.87  NAPQUEEN   \n",
       "2832                                                NaN      1.45  NAPQUEEN   \n",
       "\n",
       "      unit_price  \n",
       "2828         0.0  \n",
       "2829         0.0  \n",
       "2830         0.0  \n",
       "2831         0.0  \n",
       "2832         0.0  "
      ]
     },
     "execution_count": 10,
     "metadata": {},
     "output_type": "execute_result"
    }
   ],
   "source": [
    "test_df.tail()"
   ]
  },
  {
   "cell_type": "code",
   "execution_count": 11,
   "id": "d1c99972-1225-4645-947f-0d572e178863",
   "metadata": {},
   "outputs": [
    {
     "name": "stdout",
     "output_type": "stream",
     "text": [
      "<class 'pandas.core.frame.DataFrame'>\n",
      "RangeIndex: 2833 entries, 0 to 2832\n",
      "Data columns (total 7 columns):\n",
      " #   Column      Non-Null Count  Dtype  \n",
      "---  ------      --------------  -----  \n",
      " 0   ID          2833 non-null   object \n",
      " 1   date        2833 non-null   object \n",
      " 2   Item Id     2833 non-null   object \n",
      " 3   Item Name   2489 non-null   object \n",
      " 4   ad_spend    1382 non-null   float64\n",
      " 5   anarix_id   2833 non-null   object \n",
      " 6   unit_price  2833 non-null   float64\n",
      "dtypes: float64(2), object(5)\n",
      "memory usage: 155.1+ KB\n"
     ]
    }
   ],
   "source": [
    "test_df.info()"
   ]
  },
  {
   "cell_type": "code",
   "execution_count": 12,
   "id": "f3d1094d-4a7e-47ca-9c82-492ea7fa257a",
   "metadata": {},
   "outputs": [
    {
     "data": {
      "text/html": [
       "<div>\n",
       "<style scoped>\n",
       "    .dataframe tbody tr th:only-of-type {\n",
       "        vertical-align: middle;\n",
       "    }\n",
       "\n",
       "    .dataframe tbody tr th {\n",
       "        vertical-align: top;\n",
       "    }\n",
       "\n",
       "    .dataframe thead th {\n",
       "        text-align: right;\n",
       "    }\n",
       "</style>\n",
       "<table border=\"1\" class=\"dataframe\">\n",
       "  <thead>\n",
       "    <tr style=\"text-align: right;\">\n",
       "      <th></th>\n",
       "      <th>ad_spend</th>\n",
       "      <th>unit_price</th>\n",
       "    </tr>\n",
       "  </thead>\n",
       "  <tbody>\n",
       "    <tr>\n",
       "      <th>count</th>\n",
       "      <td>1382.000000</td>\n",
       "      <td>2833.000000</td>\n",
       "    </tr>\n",
       "    <tr>\n",
       "      <th>mean</th>\n",
       "      <td>198.838032</td>\n",
       "      <td>98.725873</td>\n",
       "    </tr>\n",
       "    <tr>\n",
       "      <th>std</th>\n",
       "      <td>797.354508</td>\n",
       "      <td>383.585307</td>\n",
       "    </tr>\n",
       "    <tr>\n",
       "      <th>min</th>\n",
       "      <td>0.000000</td>\n",
       "      <td>-1988.180000</td>\n",
       "    </tr>\n",
       "    <tr>\n",
       "      <th>25%</th>\n",
       "      <td>0.730000</td>\n",
       "      <td>0.000000</td>\n",
       "    </tr>\n",
       "    <tr>\n",
       "      <th>50%</th>\n",
       "      <td>39.200000</td>\n",
       "      <td>0.000000</td>\n",
       "    </tr>\n",
       "    <tr>\n",
       "      <th>75%</th>\n",
       "      <td>156.012500</td>\n",
       "      <td>0.000000</td>\n",
       "    </tr>\n",
       "    <tr>\n",
       "      <th>max</th>\n",
       "      <td>18724.850000</td>\n",
       "      <td>6870.000000</td>\n",
       "    </tr>\n",
       "  </tbody>\n",
       "</table>\n",
       "</div>"
      ],
      "text/plain": [
       "           ad_spend   unit_price\n",
       "count   1382.000000  2833.000000\n",
       "mean     198.838032    98.725873\n",
       "std      797.354508   383.585307\n",
       "min        0.000000 -1988.180000\n",
       "25%        0.730000     0.000000\n",
       "50%       39.200000     0.000000\n",
       "75%      156.012500     0.000000\n",
       "max    18724.850000  6870.000000"
      ]
     },
     "execution_count": 12,
     "metadata": {},
     "output_type": "execute_result"
    }
   ],
   "source": [
    "test_df.describe()"
   ]
  },
  {
   "cell_type": "code",
   "execution_count": 13,
   "id": "f7849cb8-5036-466e-bda5-70e4b46787e5",
   "metadata": {},
   "outputs": [
    {
     "data": {
      "text/plain": [
       "ID               0\n",
       "date             0\n",
       "Item Id          0\n",
       "Item Name      344\n",
       "ad_spend      1451\n",
       "anarix_id        0\n",
       "unit_price       0\n",
       "dtype: int64"
      ]
     },
     "execution_count": 13,
     "metadata": {},
     "output_type": "execute_result"
    }
   ],
   "source": [
    "test_df.isnull().sum()"
   ]
  },
  {
   "cell_type": "code",
   "execution_count": 14,
   "id": "4fc10dd5-9846-4745-83a2-89ac7b2ec0ce",
   "metadata": {},
   "outputs": [
    {
     "name": "stdout",
     "output_type": "stream",
     "text": [
      "\n",
      "Unique values in 'Item Id': 155\n",
      "Unique values in 'Item Name': 142\n"
     ]
    }
   ],
   "source": [
    "print(\"\\nUnique values in 'Item Id':\", test_df['Item Id'].nunique())\n",
    "print(\"Unique values in 'Item Name':\", test_df['Item Name'].nunique())"
   ]
  },
  {
   "cell_type": "markdown",
   "id": "4f2378aa-1be8-4bf7-baf0-061dede15428",
   "metadata": {},
   "source": [
    "# STEP 3: DATA PRE PROCESSING"
   ]
  },
  {
   "cell_type": "code",
   "execution_count": 15,
   "id": "ad7d1dee-f8c0-4df9-9c3d-06c6d67e8517",
   "metadata": {},
   "outputs": [],
   "source": [
    "#CLEAN TRAIN DATA \n",
    "\n",
    "train_df['date'] = pd.to_datetime(train_df['date'])\n",
    "\n",
    "train_df = train_df.sort_values(['Item Id', 'date'])"
   ]
  },
  {
   "cell_type": "code",
   "execution_count": 16,
   "id": "afea1feb-a202-44e1-86be-4e71c70b90a7",
   "metadata": {},
   "outputs": [],
   "source": [
    "train_df = train_df.dropna(subset=['Item Id'])"
   ]
  },
  {
   "cell_type": "code",
   "execution_count": 17,
   "id": "845ab23a-4a1c-4514-8e7f-c3ff054701df",
   "metadata": {},
   "outputs": [],
   "source": [
    "train_df['ad_spend'] = train_df['ad_spend'].fillna(0)\n",
    "train_df['units'] = train_df['units'].fillna(0)"
   ]
  },
  {
   "cell_type": "code",
   "execution_count": 18,
   "id": "5b598c96-a5e1-4ad0-b97c-a49ba76ecf4b",
   "metadata": {},
   "outputs": [],
   "source": [
    "train_df['Item Name'] = train_df['Item Name'].fillna('Unknown')"
   ]
  },
  {
   "cell_type": "code",
   "execution_count": 19,
   "id": "69dd312f-991b-46a0-8977-d1c38081bbe6",
   "metadata": {},
   "outputs": [],
   "source": [
    "train_df['units'] = train_df['units'].clip(lower=0) \n",
    "train_df['unit_price'] = train_df['unit_price'].clip(lower=0) \n",
    "\n",
    "train_df['missing_name'] = train_df['Item Name'].apply(lambda x: 1 if x == 'Unknown' else 0)"
   ]
  },
  {
   "cell_type": "code",
   "execution_count": 20,
   "id": "59c450aa-0fb7-4f8c-90d5-853ff7fc3061",
   "metadata": {},
   "outputs": [
    {
     "name": "stdout",
     "output_type": "stream",
     "text": [
      "Rows in dataset after cleaning: 101488\n",
      "\n",
      "Missing values after cleaning:\n",
      "ID              0\n",
      "date            0\n",
      "Item Id         0\n",
      "Item Name       0\n",
      "ad_spend        0\n",
      "anarix_id       0\n",
      "units           0\n",
      "unit_price      0\n",
      "missing_name    0\n",
      "dtype: int64\n",
      "\n",
      "Dataset info after cleaning:\n",
      "<class 'pandas.core.frame.DataFrame'>\n",
      "Index: 101488 entries, 62967 to 101466\n",
      "Data columns (total 9 columns):\n",
      " #   Column        Non-Null Count   Dtype         \n",
      "---  ------        --------------   -----         \n",
      " 0   ID            101488 non-null  object        \n",
      " 1   date          101488 non-null  datetime64[ns]\n",
      " 2   Item Id       101488 non-null  object        \n",
      " 3   Item Name     101488 non-null  object        \n",
      " 4   ad_spend      101488 non-null  float64       \n",
      " 5   anarix_id     101488 non-null  object        \n",
      " 6   units         101488 non-null  float64       \n",
      " 7   unit_price    101488 non-null  float64       \n",
      " 8   missing_name  101488 non-null  int64         \n",
      "dtypes: datetime64[ns](1), float64(3), int64(1), object(4)\n",
      "memory usage: 7.7+ MB\n"
     ]
    }
   ],
   "source": [
    "print(\"Rows in dataset after cleaning:\", len(train_df))\n",
    "print(\"\\nMissing values after cleaning:\")\n",
    "print(train_df.isnull().sum())\n",
    "print(\"\\nDataset info after cleaning:\")\n",
    "train_df.info()"
   ]
  },
  {
   "cell_type": "code",
   "execution_count": 21,
   "id": "9150a0b9-2f13-49fd-82f4-e2c5e79be405",
   "metadata": {},
   "outputs": [
    {
     "name": "stdout",
     "output_type": "stream",
     "text": [
      "\n",
      "Basic statistics after cleaning:\n",
      "                                date       ad_spend          units  \\\n",
      "count                         101488  101488.000000  101488.000000   \n",
      "mean   2023-07-09 19:09:44.297651200      84.374182       8.511105   \n",
      "min              2022-04-12 00:00:00       0.000000       0.000000   \n",
      "25%              2023-02-26 00:00:00       0.000000       0.000000   \n",
      "50%              2023-07-16 00:00:00       0.720000       0.000000   \n",
      "75%              2023-12-13 00:00:00      21.642500       3.000000   \n",
      "max              2024-05-31 00:00:00   47934.990000    9004.000000   \n",
      "std                              NaN     464.354660      62.680788   \n",
      "\n",
      "          unit_price   missing_name  \n",
      "count  101488.000000  101488.000000  \n",
      "mean      107.256203       0.018032  \n",
      "min         0.000000       0.000000  \n",
      "25%         0.000000       0.000000  \n",
      "50%         0.000000       0.000000  \n",
      "75%         0.000000       0.000000  \n",
      "max     21557.390000       1.000000  \n",
      "std       424.513596       0.133067  \n"
     ]
    }
   ],
   "source": [
    "print(\"\\nBasic statistics after cleaning:\")\n",
    "print(train_df.describe())"
   ]
  },
  {
   "cell_type": "code",
   "execution_count": 22,
   "id": "9eafc995-aa2a-4e09-b1cc-de529107b7ec",
   "metadata": {},
   "outputs": [],
   "source": [
    "# CLEANING TEST DATA "
   ]
  },
  {
   "cell_type": "code",
   "execution_count": 23,
   "id": "3c1e6ec8-4c36-4a45-9038-29c8841206cf",
   "metadata": {},
   "outputs": [
    {
     "data": {
      "text/html": [
       "<div>\n",
       "<style scoped>\n",
       "    .dataframe tbody tr th:only-of-type {\n",
       "        vertical-align: middle;\n",
       "    }\n",
       "\n",
       "    .dataframe tbody tr th {\n",
       "        vertical-align: top;\n",
       "    }\n",
       "\n",
       "    .dataframe thead th {\n",
       "        text-align: right;\n",
       "    }\n",
       "</style>\n",
       "<table border=\"1\" class=\"dataframe\">\n",
       "  <thead>\n",
       "    <tr style=\"text-align: right;\">\n",
       "      <th></th>\n",
       "      <th>ID</th>\n",
       "      <th>date</th>\n",
       "      <th>Item Id</th>\n",
       "      <th>Item Name</th>\n",
       "      <th>ad_spend</th>\n",
       "      <th>anarix_id</th>\n",
       "      <th>unit_price</th>\n",
       "    </tr>\n",
       "  </thead>\n",
       "  <tbody>\n",
       "    <tr>\n",
       "      <th>0</th>\n",
       "      <td>2024-07-01_B09KDR64LT</td>\n",
       "      <td>2024-07-01</td>\n",
       "      <td>B09KDR64LT</td>\n",
       "      <td>NapQueen Elizabeth 10\" Gel Memory Foam Mattres...</td>\n",
       "      <td>NaN</td>\n",
       "      <td>NAPQUEEN</td>\n",
       "      <td>0.0</td>\n",
       "    </tr>\n",
       "    <tr>\n",
       "      <th>1</th>\n",
       "      <td>2024-07-01_B09KDTS4DC</td>\n",
       "      <td>2024-07-01</td>\n",
       "      <td>B09KDTS4DC</td>\n",
       "      <td>NapQueen Elizabeth 8\" Gel Memory Foam Mattress...</td>\n",
       "      <td>NaN</td>\n",
       "      <td>NAPQUEEN</td>\n",
       "      <td>0.0</td>\n",
       "    </tr>\n",
       "    <tr>\n",
       "      <th>2</th>\n",
       "      <td>2024-07-01_B09KDTHJ6V</td>\n",
       "      <td>2024-07-01</td>\n",
       "      <td>B09KDTHJ6V</td>\n",
       "      <td>NapQueen Elizabeth 12\" Gel Memory Foam Mattres...</td>\n",
       "      <td>NaN</td>\n",
       "      <td>NAPQUEEN</td>\n",
       "      <td>0.0</td>\n",
       "    </tr>\n",
       "    <tr>\n",
       "      <th>3</th>\n",
       "      <td>2024-07-01_B09KDQ2BWY</td>\n",
       "      <td>2024-07-01</td>\n",
       "      <td>B09KDQ2BWY</td>\n",
       "      <td>NapQueen Elizabeth 12\" Gel Memory Foam Mattres...</td>\n",
       "      <td>NaN</td>\n",
       "      <td>NAPQUEEN</td>\n",
       "      <td>0.0</td>\n",
       "    </tr>\n",
       "    <tr>\n",
       "      <th>4</th>\n",
       "      <td>2024-07-01_B09KDYY3SB</td>\n",
       "      <td>2024-07-01</td>\n",
       "      <td>B09KDYY3SB</td>\n",
       "      <td>NapQueen Elizabeth 10\" Gel Memory Foam Mattres...</td>\n",
       "      <td>101.72</td>\n",
       "      <td>NAPQUEEN</td>\n",
       "      <td>1094.5</td>\n",
       "    </tr>\n",
       "  </tbody>\n",
       "</table>\n",
       "</div>"
      ],
      "text/plain": [
       "                      ID        date     Item Id  \\\n",
       "0  2024-07-01_B09KDR64LT  2024-07-01  B09KDR64LT   \n",
       "1  2024-07-01_B09KDTS4DC  2024-07-01  B09KDTS4DC   \n",
       "2  2024-07-01_B09KDTHJ6V  2024-07-01  B09KDTHJ6V   \n",
       "3  2024-07-01_B09KDQ2BWY  2024-07-01  B09KDQ2BWY   \n",
       "4  2024-07-01_B09KDYY3SB  2024-07-01  B09KDYY3SB   \n",
       "\n",
       "                                           Item Name  ad_spend anarix_id  \\\n",
       "0  NapQueen Elizabeth 10\" Gel Memory Foam Mattres...       NaN  NAPQUEEN   \n",
       "1  NapQueen Elizabeth 8\" Gel Memory Foam Mattress...       NaN  NAPQUEEN   \n",
       "2  NapQueen Elizabeth 12\" Gel Memory Foam Mattres...       NaN  NAPQUEEN   \n",
       "3  NapQueen Elizabeth 12\" Gel Memory Foam Mattres...       NaN  NAPQUEEN   \n",
       "4  NapQueen Elizabeth 10\" Gel Memory Foam Mattres...    101.72  NAPQUEEN   \n",
       "\n",
       "   unit_price  \n",
       "0         0.0  \n",
       "1         0.0  \n",
       "2         0.0  \n",
       "3         0.0  \n",
       "4      1094.5  "
      ]
     },
     "execution_count": 23,
     "metadata": {},
     "output_type": "execute_result"
    }
   ],
   "source": [
    "test_df.head()"
   ]
  },
  {
   "cell_type": "code",
   "execution_count": 24,
   "id": "10130fca-d916-48e6-a86d-2ac690c5cd98",
   "metadata": {},
   "outputs": [],
   "source": [
    "test_df['date'] = pd.to_datetime(test_df['date'])"
   ]
  },
  {
   "cell_type": "code",
   "execution_count": 25,
   "id": "6c0de607-a604-40a4-a617-842340de5c25",
   "metadata": {},
   "outputs": [],
   "source": [
    "test_df['ad_spend'] = test_df['ad_spend'].fillna(0)"
   ]
  },
  {
   "cell_type": "code",
   "execution_count": 26,
   "id": "de8ef3fe-5c64-4329-9235-660c7c54769f",
   "metadata": {},
   "outputs": [],
   "source": [
    "test_df['Item Name'] = test_df['Item Name'].fillna('Unknown')"
   ]
  },
  {
   "cell_type": "code",
   "execution_count": 27,
   "id": "adc520b1-f026-4bc5-ad68-184567f7d73c",
   "metadata": {},
   "outputs": [],
   "source": [
    "test_df['unit_price'] = test_df['unit_price'].clip(lower=0) \n",
    "\n",
    "test_df['missing_name'] = test_df['Item Name'].apply(lambda x: 1 if x == 'Unknown' else 0)"
   ]
  },
  {
   "cell_type": "code",
   "execution_count": 28,
   "id": "52349d80-bc70-4406-8c25-e52ea8630590",
   "metadata": {},
   "outputs": [
    {
     "name": "stdout",
     "output_type": "stream",
     "text": [
      "Rows in dataset after cleaning: 2833\n",
      "\n",
      "Missing values after cleaning:\n",
      "ID              0\n",
      "date            0\n",
      "Item Id         0\n",
      "Item Name       0\n",
      "ad_spend        0\n",
      "anarix_id       0\n",
      "unit_price      0\n",
      "missing_name    0\n",
      "dtype: int64\n",
      "\n",
      "Dataset info after cleaning:\n",
      "<class 'pandas.core.frame.DataFrame'>\n",
      "RangeIndex: 2833 entries, 0 to 2832\n",
      "Data columns (total 8 columns):\n",
      " #   Column        Non-Null Count  Dtype         \n",
      "---  ------        --------------  -----         \n",
      " 0   ID            2833 non-null   object        \n",
      " 1   date          2833 non-null   datetime64[ns]\n",
      " 2   Item Id       2833 non-null   object        \n",
      " 3   Item Name     2833 non-null   object        \n",
      " 4   ad_spend      2833 non-null   float64       \n",
      " 5   anarix_id     2833 non-null   object        \n",
      " 6   unit_price    2833 non-null   float64       \n",
      " 7   missing_name  2833 non-null   int64         \n",
      "dtypes: datetime64[ns](1), float64(2), int64(1), object(4)\n",
      "memory usage: 177.2+ KB\n"
     ]
    }
   ],
   "source": [
    "print(\"Rows in dataset after cleaning:\", len(test_df))\n",
    "print(\"\\nMissing values after cleaning:\")\n",
    "print(test_df.isnull().sum())\n",
    "print(\"\\nDataset info after cleaning:\")\n",
    "test_df.info()"
   ]
  },
  {
   "cell_type": "code",
   "execution_count": 29,
   "id": "6bdb9475-d429-42d9-b79f-a47d78b429cd",
   "metadata": {},
   "outputs": [
    {
     "name": "stdout",
     "output_type": "stream",
     "text": [
      "\n",
      "Basic statistics after cleaning:\n",
      "                                date      ad_spend   unit_price  missing_name\n",
      "count                           2833   2833.000000  2833.000000   2833.000000\n",
      "mean   2024-07-13 16:54:33.420402176     96.997586   100.667754      0.121426\n",
      "min              2024-07-01 00:00:00      0.000000     0.000000      0.000000\n",
      "25%              2024-07-07 00:00:00      0.000000     0.000000      0.000000\n",
      "50%              2024-07-14 00:00:00      0.000000     0.000000      0.000000\n",
      "75%              2024-07-20 00:00:00     36.030000     0.000000      0.000000\n",
      "max              2024-07-28 00:00:00  18724.850000  6870.000000      1.000000\n",
      "std                              NaN    565.607189   379.505541      0.326679\n"
     ]
    }
   ],
   "source": [
    "print(\"\\nBasic statistics after cleaning:\")\n",
    "print(test_df.describe())"
   ]
  },
  {
   "cell_type": "markdown",
   "id": "b4d6a825-c503-4153-9643-a03897b6c179",
   "metadata": {},
   "source": [
    "# STEP 4: EDA ( Exploratory Data Analysis)"
   ]
  },
  {
   "cell_type": "code",
   "execution_count": 30,
   "id": "83f29ab0-c188-432a-9b92-9f7762757d9e",
   "metadata": {},
   "outputs": [
    {
     "name": "stdout",
     "output_type": "stream",
     "text": [
      "Train dataset shape: (101488, 9)\n",
      "Test dataset shape: (2833, 8)\n",
      "\n",
      "Train dataset columns:\n",
      "Index(['ID', 'date', 'Item Id', 'Item Name', 'ad_spend', 'anarix_id', 'units',\n",
      "       'unit_price', 'missing_name'],\n",
      "      dtype='object')\n",
      "\n",
      "Test dataset columns:\n",
      "Index(['ID', 'date', 'Item Id', 'Item Name', 'ad_spend', 'anarix_id',\n",
      "       'unit_price', 'missing_name'],\n",
      "      dtype='object')\n",
      "\n",
      "Train dataset info:\n",
      "<class 'pandas.core.frame.DataFrame'>\n",
      "Index: 101488 entries, 62967 to 101466\n",
      "Data columns (total 9 columns):\n",
      " #   Column        Non-Null Count   Dtype         \n",
      "---  ------        --------------   -----         \n",
      " 0   ID            101488 non-null  object        \n",
      " 1   date          101488 non-null  datetime64[ns]\n",
      " 2   Item Id       101488 non-null  object        \n",
      " 3   Item Name     101488 non-null  object        \n",
      " 4   ad_spend      101488 non-null  float64       \n",
      " 5   anarix_id     101488 non-null  object        \n",
      " 6   units         101488 non-null  float64       \n",
      " 7   unit_price    101488 non-null  float64       \n",
      " 8   missing_name  101488 non-null  int64         \n",
      "dtypes: datetime64[ns](1), float64(3), int64(1), object(4)\n",
      "memory usage: 7.7+ MB\n",
      "\n",
      "Test dataset info:\n",
      "<class 'pandas.core.frame.DataFrame'>\n",
      "RangeIndex: 2833 entries, 0 to 2832\n",
      "Data columns (total 8 columns):\n",
      " #   Column        Non-Null Count  Dtype         \n",
      "---  ------        --------------  -----         \n",
      " 0   ID            2833 non-null   object        \n",
      " 1   date          2833 non-null   datetime64[ns]\n",
      " 2   Item Id       2833 non-null   object        \n",
      " 3   Item Name     2833 non-null   object        \n",
      " 4   ad_spend      2833 non-null   float64       \n",
      " 5   anarix_id     2833 non-null   object        \n",
      " 6   unit_price    2833 non-null   float64       \n",
      " 7   missing_name  2833 non-null   int64         \n",
      "dtypes: datetime64[ns](1), float64(2), int64(1), object(4)\n",
      "memory usage: 177.2+ KB\n"
     ]
    }
   ],
   "source": [
    "# Basic info\n",
    "print(\"Train dataset shape:\", train_df.shape)\n",
    "print(\"Test dataset shape:\", test_df.shape)\n",
    "\n",
    "print(\"\\nTrain dataset columns:\")\n",
    "print(train_df.columns)\n",
    "print(\"\\nTest dataset columns:\")\n",
    "print(test_df.columns)\n",
    "\n",
    "print(\"\\nTrain dataset info:\")\n",
    "train_df.info()\n",
    "\n",
    "print(\"\\nTest dataset info:\")\n",
    "test_df.info()"
   ]
  },
  {
   "cell_type": "code",
   "execution_count": 31,
   "id": "de584c15-e96d-4d8b-aa45-de21f7e90b8d",
   "metadata": {},
   "outputs": [
    {
     "name": "stdout",
     "output_type": "stream",
     "text": [
      "                                date       ad_spend          units  \\\n",
      "count                         101488  101488.000000  101488.000000   \n",
      "mean   2023-07-09 19:09:44.297651200      84.374182       8.511105   \n",
      "min              2022-04-12 00:00:00       0.000000       0.000000   \n",
      "25%              2023-02-26 00:00:00       0.000000       0.000000   \n",
      "50%              2023-07-16 00:00:00       0.720000       0.000000   \n",
      "75%              2023-12-13 00:00:00      21.642500       3.000000   \n",
      "max              2024-05-31 00:00:00   47934.990000    9004.000000   \n",
      "std                              NaN     464.354660      62.680788   \n",
      "\n",
      "          unit_price   missing_name  \n",
      "count  101488.000000  101488.000000  \n",
      "mean      107.256203       0.018032  \n",
      "min         0.000000       0.000000  \n",
      "25%         0.000000       0.000000  \n",
      "50%         0.000000       0.000000  \n",
      "75%         0.000000       0.000000  \n",
      "max     21557.390000       1.000000  \n",
      "std       424.513596       0.133067  \n",
      "ID              0\n",
      "date            0\n",
      "Item Id         0\n",
      "Item Name       0\n",
      "ad_spend        0\n",
      "anarix_id       0\n",
      "units           0\n",
      "unit_price      0\n",
      "missing_name    0\n",
      "dtype: int64\n",
      "ID              0\n",
      "date            0\n",
      "Item Id         0\n",
      "Item Name       0\n",
      "ad_spend        0\n",
      "anarix_id       0\n",
      "unit_price      0\n",
      "missing_name    0\n",
      "dtype: int64\n"
     ]
    }
   ],
   "source": [
    "print(train_df.describe())\n",
    "\n",
    "# Check for missing values\n",
    "print(train_df.isnull().sum())\n",
    "print(test_df.isnull().sum())"
   ]
  },
  {
   "cell_type": "code",
   "execution_count": 32,
   "id": "8be9178d-cff1-47b6-8940-633ed845f1b5",
   "metadata": {},
   "outputs": [
    {
     "data": {
      "image/png": "[encoded data removed]",
      "text/plain": [
       "<Figure size 1500x500 with 1 Axes>"
      ]
     },
     "metadata": {},
     "output_type": "display_data"
    }
   ],
   "source": [
    "train_df['date'] = pd.to_datetime(train_df['date'])\n",
    "test_df['date'] = pd.to_datetime(test_df['date'])\n",
    "\n",
    "plt.figure(figsize=(15,5))\n",
    "plt.plot(train_df.groupby('date')['units'].sum(), color='teal', linestyle='-', marker='*')\n",
    "plt.title('Total Units Sold Over Time', fontsize=16)\n",
    "plt.xlabel('Date', fontsize=14)\n",
    "plt.ylabel('Total Units Sold', fontsize=14)\n",
    "plt.grid(True)\n",
    "plt.show()"
   ]
  },
  {
   "cell_type": "code",
   "execution_count": 33,
   "id": "5b69ce9c-88e1-40f4-8188-48d3b6653f6f",
   "metadata": {},
   "outputs": [
    {
     "data": {
      "image/png": "[encoded data removed]",
      "text/plain": [
       "<Figure size 1200x500 with 1 Axes>"
      ]
     },
     "metadata": {},
     "output_type": "display_data"
    },
    {
     "data": {
      "image/png": "[encoded data removed]",
      "text/plain": [
       "<Figure size 1200x500 with 1 Axes>"
      ]
     },
     "metadata": {},
     "output_type": "display_data"
    }
   ],
   "source": [
    "#seasonality\n",
    "train_df['month'] = train_df['date'].dt.month\n",
    "train_df['day_of_week'] = train_df['date'].dt.dayofweek\n",
    "\n",
    "plt.figure(figsize=(12,5))\n",
    "sns.boxplot(x='month', y='units', data=train_df, palette='Blues')\n",
    "plt.title('Monthly Sales Distribution', fontsize=16)\n",
    "plt.xlabel('Month', fontsize=14)\n",
    "plt.ylabel('Units Sold', fontsize=14)\n",
    "plt.grid(True)\n",
    "plt.show()\n",
    "\n",
    "plt.figure(figsize=(12,5))\n",
    "sns.boxplot(x='day_of_week', y='units', data=train_df, palette='coolwarm')\n",
    "plt.title('Day of Week Sales Distribution', fontsize=16)\n",
    "plt.xlabel('Day of Week', fontsize=14)\n",
    "plt.ylabel('Units Sold', fontsize=14)\n",
    "plt.grid(True)\n",
    "plt.show()"
   ]
  },
  {
   "cell_type": "code",
   "execution_count": 34,
   "id": "356841c7-db74-47b5-8d47-a0a64eca0c36",
   "metadata": {},
   "outputs": [
    {
     "data": {
      "image/png": "[encoded data removed]",
      "text/plain": [
       "<Figure size 640x480 with 2 Axes>"
      ]
     },
     "metadata": {},
     "output_type": "display_data"
    }
   ],
   "source": [
    "# correlation analysis\n",
    "corr = train_df[['ad_spend', 'units', 'unit_price']].corr()\n",
    "sns.heatmap(corr, annot=True)\n",
    "plt.title('Correlation Heatmap')\n",
    "plt.show()"
   ]
  },
  {
   "cell_type": "code",
   "execution_count": 35,
   "id": "fc799d74-d3ba-4978-89a9-10461f237648",
   "metadata": {},
   "outputs": [
    {
     "name": "stdout",
     "output_type": "stream",
     "text": [
      "Top 10 selling items: Item Id\n",
      "B09KT5HMNY    102149.0\n",
      "B0BGDWGRQB     99586.0\n",
      "B09MR3Y296     82697.0\n",
      "B09MR4B13C     78548.0\n",
      "B0BGDX2Z3L     33810.0\n",
      "B09KTMKDKJ     31790.0\n",
      "B0BRCYQNSW     26531.0\n",
      "B09MR3XT5G     21815.0\n",
      "B0B699PLXD     21622.0\n",
      "B0BGDZLDX2     20691.0\n",
      "Name: units, dtype: float64\n",
      "\n",
      "Top 10 items by ad spend: Item Id\n",
      "B09KT5HMNY    851785.25\n",
      "B09MR4B13C    607033.59\n",
      "B09MR3Y296    548484.97\n",
      "B0BRCYQNSW    434229.75\n",
      "B09KTF8ZDQ    336946.80\n",
      "B09KTMKDKJ    266972.17\n",
      "B0BGDWGRQB    262212.18\n",
      "B09KDZQJ6P    255192.82\n",
      "B0B69B8R3C    247132.75\n",
      "B09MR3XT5G    227750.13\n",
      "Name: ad_spend, dtype: float64\n"
     ]
    }
   ],
   "source": [
    "#item analysis\n",
    "#top selling items\n",
    "top_items = train_df.groupby('Item Id')['units'].sum().nlargest(10)\n",
    "print(\"Top 10 selling items:\", top_items)\n",
    "\n",
    "#items with highest ad spend\n",
    "top_ad_spend = train_df.groupby('Item Id')['ad_spend'].sum().nlargest(10)\n",
    "print(\"\\nTop 10 items by ad spend:\", top_ad_spend)"
   ]
  },
  {
   "cell_type": "code",
   "execution_count": 36,
   "id": "7407415f-25ce-463b-9cb2-71b4524bb930",
   "metadata": {},
   "outputs": [
    {
     "data": {
      "image/png": "[encoded data removed]",
      "text/plain": [
       "<Figure size 800x400 with 1 Axes>"
      ]
     },
     "metadata": {},
     "output_type": "display_data"
    },
    {
     "data": {
      "image/png": "[encoded data removed]",
      "text/plain": [
       "<Figure size 800x400 with 1 Axes>"
      ]
     },
     "metadata": {},
     "output_type": "display_data"
    }
   ],
   "source": [
    "#horizontal bar graph for top selling items\n",
    "plt.figure(figsize=(8, 4))\n",
    "plt.barh(top_items.index, top_items.values, color='skyblue')\n",
    "plt.xlabel('Total Units Sold')\n",
    "plt.ylabel('Item Id')\n",
    "plt.title('Top 10 Selling Items')\n",
    "plt.gca().invert_yaxis()  # Invert y-axis to display top item at the top\n",
    "plt.grid(axis='x', linestyle='--', alpha=0.6)\n",
    "plt.tight_layout()\n",
    "plt.show()\n",
    "\n",
    "#horizontal bar graph for items with highest ad spend\n",
    "plt.figure(figsize=(8, 4))\n",
    "plt.barh(top_ad_spend.index, top_ad_spend.values, color='lightgreen')\n",
    "plt.xlabel('Total Ad Spend')\n",
    "plt.ylabel('Item Id')\n",
    "plt.title('Top 10 Items by Ad Spend')\n",
    "plt.gca().invert_yaxis()  # Invert y-axis to display top item at the top\n",
    "plt.grid(axis='x', linestyle='--', alpha=0.6)\n",
    "plt.tight_layout()\n",
    "plt.show()"
   ]
  },
  {
   "cell_type": "code",
   "execution_count": 37,
   "id": "dad83a56-c57c-4f4a-91dc-c29f39026ffe",
   "metadata": {},
   "outputs": [
    {
     "data": {
      "image/png": "[encoded data removed]",
      "text/plain": [
       "<Figure size 1500x500 with 1 Axes>"
      ]
     },
     "metadata": {},
     "output_type": "display_data"
    }
   ],
   "source": [
    "#unitprice over time (train and test split)\n",
    "\n",
    "train_df['date'] = pd.to_datetime(train_df['date'])\n",
    "test_df['date'] = pd.to_datetime(test_df['date'])\n",
    "\n",
    "fig, ax = plt.subplots(figsize=(15, 5))\n",
    "train_df.plot(x='date', y='unit_price', ax=ax, label='Training Set', color='blue')\n",
    "test_df.plot(x='date', y='unit_price', ax=ax, label='Test Set', color='orange')\n",
    "ax.axvline(pd.Timestamp('2024-07-01'), color='black', linestyle='--')\n",
    "ax.set_title('Unit Price Over Time: Train/Test Split')\n",
    "ax.set_xlabel('Date')\n",
    "ax.set_ylabel('Unit Price')\n",
    "ax.legend(['Training Set', 'Test Set','Train/Test Split'])\n",
    "\n",
    "plt.show()"
   ]
  },
  {
   "cell_type": "markdown",
   "id": "3e6fa2e9-e6b0-4577-9859-5182ff4f5cfb",
   "metadata": {},
   "source": [
    "# STEP 5: FEATURE CREATION"
   ]
  },
  {
   "cell_type": "code",
   "execution_count": 38,
   "id": "d4aae185-13b7-455e-aea1-08bfe6b7d2f4",
   "metadata": {},
   "outputs": [
    {
     "name": "stdout",
     "output_type": "stream",
     "text": [
      "Index(['ID', 'date', 'Item Id', 'Item Name', 'ad_spend', 'anarix_id', 'units',\n",
      "       'unit_price', 'missing_name', 'month', 'day_of_week'],\n",
      "      dtype='object')\n"
     ]
    }
   ],
   "source": [
    "print(train_df.columns)"
   ]
  },
  {
   "cell_type": "code",
   "execution_count": 39,
   "id": "f30ae1b6-f44c-4107-a8dd-2c43fb75ae9e",
   "metadata": {},
   "outputs": [
    {
     "name": "stdout",
     "output_type": "stream",
     "text": [
      "Index(['ID', 'date', 'Item Id', 'Item Name', 'ad_spend', 'anarix_id',\n",
      "       'unit_price', 'missing_name'],\n",
      "      dtype='object')\n"
     ]
    }
   ],
   "source": [
    "print(test_df.columns)"
   ]
  },
  {
   "cell_type": "code",
   "execution_count": 40,
   "id": "f06f0698-1de2-48d2-a240-80aa46b854f0",
   "metadata": {},
   "outputs": [],
   "source": [
    "train_df['date'] = pd.to_datetime(train_df['date'])\n",
    "test_df['date'] = pd.to_datetime(test_df['date'])"
   ]
  },
  {
   "cell_type": "code",
   "execution_count": 74,
   "id": "596ffb8d-f62c-4214-93b4-53b1309e9582",
   "metadata": {},
   "outputs": [],
   "source": [
    "def create_features(df):\n",
    "    if 'date' not in df.columns:\n",
    "        raise ValueError(\"DataFrame must contain a 'date' column\")\n",
    "    \n",
    "    df['date'] = pd.to_datetime(df['date'])\n",
    "    \n",
    "    df['day_of_week'] = df['date'].dt.dayofweek\n",
    "    df['month'] = df['date'].dt.month\n",
    "    df['quarter'] = df['date'].dt.quarter\n",
    "    df['year'] = df['date'].dt.year\n",
    "    df['is_weekend'] = df['day_of_week'].isin([5, 6]).astype(int)\n",
    "    return df\n",
    "\n",
    "train_df = create_features(train_df)"
   ]
  },
  {
   "cell_type": "code",
   "execution_count": 75,
   "id": "75f2e200-0ea2-4f65-87d8-004f8f56c4d2",
   "metadata": {},
   "outputs": [],
   "source": [
    "train_df = create_features(train_df)\n",
    "test_df = create_features(test_df)"
   ]
  },
  {
   "cell_type": "code",
   "execution_count": 43,
   "id": "e88701d9-12b4-423c-b05b-574e8330752a",
   "metadata": {},
   "outputs": [],
   "source": [
    "features = ['day_of_week', 'month', 'quarter', 'year', 'is_weekend']"
   ]
  },
  {
   "cell_type": "code",
   "execution_count": 44,
   "id": "eb1c9259-e58d-4d70-a1db-fc5412f8f9ca",
   "metadata": {},
   "outputs": [
    {
     "name": "stdout",
     "output_type": "stream",
     "text": [
      "Index(['ID', 'date', 'Item Id', 'Item Name', 'ad_spend', 'anarix_id', 'units',\n",
      "       'unit_price', 'missing_name', 'month', 'day_of_week', 'quarter', 'year',\n",
      "       'is_weekend'],\n",
      "      dtype='object')\n"
     ]
    }
   ],
   "source": [
    "print(train_df.columns)"
   ]
  },
  {
   "cell_type": "code",
   "execution_count": 45,
   "id": "98c6f476-886d-47bb-ad0a-e4bfa0add7e1",
   "metadata": {},
   "outputs": [
    {
     "name": "stdout",
     "output_type": "stream",
     "text": [
      "Index(['ID', 'date', 'Item Id', 'Item Name', 'ad_spend', 'anarix_id',\n",
      "       'unit_price', 'missing_name', 'day_of_week', 'month', 'quarter', 'year',\n",
      "       'is_weekend'],\n",
      "      dtype='object')\n"
     ]
    }
   ],
   "source": [
    "print(test_df.columns)"
   ]
  },
  {
   "cell_type": "code",
   "execution_count": 47,
   "id": "c3099715-5113-43c4-b7db-031ad4956e0f",
   "metadata": {},
   "outputs": [
    {
     "name": "stdout",
     "output_type": "stream",
     "text": [
      "Shape of dataset after feature engineering: (101488, 14)\n",
      "\n",
      "New features added:\n",
      "       month  day_of_week  quarter  year  is_weekend\n",
      "62967      9            0        3  2023           0\n",
      "65359     10            1        4  2023           0\n",
      "69206     11            3        4  2023           0\n",
      "767        5            3        2  2022           0\n",
      "812        5            4        2  2022           0\n"
     ]
    }
   ],
   "source": [
    "print(\"Shape of dataset after feature engineering:\", train_df.shape)\n",
    "print(\"\\nNew features added:\")\n",
    "print(train_df[['month', 'day_of_week', 'quarter', 'year',\n",
    "       'is_weekend']].head())"
   ]
  },
  {
   "cell_type": "code",
   "execution_count": 48,
   "id": "358cb1cb-101c-44e4-a94b-639faa541641",
   "metadata": {},
   "outputs": [
    {
     "name": "stdout",
     "output_type": "stream",
     "text": [
      "<class 'pandas.core.frame.DataFrame'>\n",
      "Index: 101488 entries, 62967 to 101466\n",
      "Data columns (total 14 columns):\n",
      " #   Column        Non-Null Count   Dtype         \n",
      "---  ------        --------------   -----         \n",
      " 0   ID            101488 non-null  object        \n",
      " 1   date          101488 non-null  datetime64[ns]\n",
      " 2   Item Id       101488 non-null  object        \n",
      " 3   Item Name     101488 non-null  object        \n",
      " 4   ad_spend      101488 non-null  float64       \n",
      " 5   anarix_id     101488 non-null  object        \n",
      " 6   units         101488 non-null  float64       \n",
      " 7   unit_price    101488 non-null  float64       \n",
      " 8   missing_name  101488 non-null  int64         \n",
      " 9   month         101488 non-null  int32         \n",
      " 10  day_of_week   101488 non-null  int32         \n",
      " 11  quarter       101488 non-null  int32         \n",
      " 12  year          101488 non-null  int32         \n",
      " 13  is_weekend    101488 non-null  int64         \n",
      "dtypes: datetime64[ns](1), float64(3), int32(4), int64(2), object(4)\n",
      "memory usage: 10.1+ MB\n"
     ]
    }
   ],
   "source": [
    "train_df.info()"
   ]
  },
  {
   "cell_type": "code",
   "execution_count": 49,
   "id": "10c90db6-fa7e-4bad-99b9-3ce2680e0010",
   "metadata": {},
   "outputs": [
    {
     "data": {
      "text/html": [
       "<div>\n",
       "<style scoped>\n",
       "    .dataframe tbody tr th:only-of-type {\n",
       "        vertical-align: middle;\n",
       "    }\n",
       "\n",
       "    .dataframe tbody tr th {\n",
       "        vertical-align: top;\n",
       "    }\n",
       "\n",
       "    .dataframe thead th {\n",
       "        text-align: right;\n",
       "    }\n",
       "</style>\n",
       "<table border=\"1\" class=\"dataframe\">\n",
       "  <thead>\n",
       "    <tr style=\"text-align: right;\">\n",
       "      <th></th>\n",
       "      <th>date</th>\n",
       "      <th>ad_spend</th>\n",
       "      <th>units</th>\n",
       "      <th>unit_price</th>\n",
       "      <th>missing_name</th>\n",
       "      <th>month</th>\n",
       "      <th>day_of_week</th>\n",
       "      <th>quarter</th>\n",
       "      <th>year</th>\n",
       "      <th>is_weekend</th>\n",
       "    </tr>\n",
       "  </thead>\n",
       "  <tbody>\n",
       "    <tr>\n",
       "      <th>count</th>\n",
       "      <td>101488</td>\n",
       "      <td>101488.000000</td>\n",
       "      <td>101488.000000</td>\n",
       "      <td>101488.000000</td>\n",
       "      <td>101488.000000</td>\n",
       "      <td>101488.000000</td>\n",
       "      <td>101488.000000</td>\n",
       "      <td>101488.000000</td>\n",
       "      <td>101488.000000</td>\n",
       "      <td>101488.000000</td>\n",
       "    </tr>\n",
       "    <tr>\n",
       "      <th>mean</th>\n",
       "      <td>2023-07-09 19:09:44.297651200</td>\n",
       "      <td>84.374182</td>\n",
       "      <td>8.511105</td>\n",
       "      <td>107.256203</td>\n",
       "      <td>0.018032</td>\n",
       "      <td>6.051405</td>\n",
       "      <td>2.996876</td>\n",
       "      <td>2.352682</td>\n",
       "      <td>2023.060175</td>\n",
       "      <td>0.284625</td>\n",
       "    </tr>\n",
       "    <tr>\n",
       "      <th>min</th>\n",
       "      <td>2022-04-12 00:00:00</td>\n",
       "      <td>0.000000</td>\n",
       "      <td>0.000000</td>\n",
       "      <td>0.000000</td>\n",
       "      <td>0.000000</td>\n",
       "      <td>1.000000</td>\n",
       "      <td>0.000000</td>\n",
       "      <td>1.000000</td>\n",
       "      <td>2022.000000</td>\n",
       "      <td>0.000000</td>\n",
       "    </tr>\n",
       "    <tr>\n",
       "      <th>25%</th>\n",
       "      <td>2023-02-26 00:00:00</td>\n",
       "      <td>0.000000</td>\n",
       "      <td>0.000000</td>\n",
       "      <td>0.000000</td>\n",
       "      <td>0.000000</td>\n",
       "      <td>3.000000</td>\n",
       "      <td>1.000000</td>\n",
       "      <td>1.000000</td>\n",
       "      <td>2023.000000</td>\n",
       "      <td>0.000000</td>\n",
       "    </tr>\n",
       "    <tr>\n",
       "      <th>50%</th>\n",
       "      <td>2023-07-16 00:00:00</td>\n",
       "      <td>0.720000</td>\n",
       "      <td>0.000000</td>\n",
       "      <td>0.000000</td>\n",
       "      <td>0.000000</td>\n",
       "      <td>6.000000</td>\n",
       "      <td>3.000000</td>\n",
       "      <td>2.000000</td>\n",
       "      <td>2023.000000</td>\n",
       "      <td>0.000000</td>\n",
       "    </tr>\n",
       "    <tr>\n",
       "      <th>75%</th>\n",
       "      <td>2023-12-13 00:00:00</td>\n",
       "      <td>21.642500</td>\n",
       "      <td>3.000000</td>\n",
       "      <td>0.000000</td>\n",
       "      <td>0.000000</td>\n",
       "      <td>9.000000</td>\n",
       "      <td>5.000000</td>\n",
       "      <td>3.000000</td>\n",
       "      <td>2023.000000</td>\n",
       "      <td>1.000000</td>\n",
       "    </tr>\n",
       "    <tr>\n",
       "      <th>max</th>\n",
       "      <td>2024-05-31 00:00:00</td>\n",
       "      <td>47934.990000</td>\n",
       "      <td>9004.000000</td>\n",
       "      <td>21557.390000</td>\n",
       "      <td>1.000000</td>\n",
       "      <td>12.000000</td>\n",
       "      <td>6.000000</td>\n",
       "      <td>4.000000</td>\n",
       "      <td>2024.000000</td>\n",
       "      <td>1.000000</td>\n",
       "    </tr>\n",
       "    <tr>\n",
       "      <th>std</th>\n",
       "      <td>NaN</td>\n",
       "      <td>464.354660</td>\n",
       "      <td>62.680788</td>\n",
       "      <td>424.513596</td>\n",
       "      <td>0.133067</td>\n",
       "      <td>3.488462</td>\n",
       "      <td>1.999103</td>\n",
       "      <td>1.134606</td>\n",
       "      <td>0.612774</td>\n",
       "      <td>0.451238</td>\n",
       "    </tr>\n",
       "  </tbody>\n",
       "</table>\n",
       "</div>"
      ],
      "text/plain": [
       "                                date       ad_spend          units  \\\n",
       "count                         101488  101488.000000  101488.000000   \n",
       "mean   2023-07-09 19:09:44.297651200      84.374182       8.511105   \n",
       "min              2022-04-12 00:00:00       0.000000       0.000000   \n",
       "25%              2023-02-26 00:00:00       0.000000       0.000000   \n",
       "50%              2023-07-16 00:00:00       0.720000       0.000000   \n",
       "75%              2023-12-13 00:00:00      21.642500       3.000000   \n",
       "max              2024-05-31 00:00:00   47934.990000    9004.000000   \n",
       "std                              NaN     464.354660      62.680788   \n",
       "\n",
       "          unit_price   missing_name          month    day_of_week  \\\n",
       "count  101488.000000  101488.000000  101488.000000  101488.000000   \n",
       "mean      107.256203       0.018032       6.051405       2.996876   \n",
       "min         0.000000       0.000000       1.000000       0.000000   \n",
       "25%         0.000000       0.000000       3.000000       1.000000   \n",
       "50%         0.000000       0.000000       6.000000       3.000000   \n",
       "75%         0.000000       0.000000       9.000000       5.000000   \n",
       "max     21557.390000       1.000000      12.000000       6.000000   \n",
       "std       424.513596       0.133067       3.488462       1.999103   \n",
       "\n",
       "             quarter           year     is_weekend  \n",
       "count  101488.000000  101488.000000  101488.000000  \n",
       "mean        2.352682    2023.060175       0.284625  \n",
       "min         1.000000    2022.000000       0.000000  \n",
       "25%         1.000000    2023.000000       0.000000  \n",
       "50%         2.000000    2023.000000       0.000000  \n",
       "75%         3.000000    2023.000000       1.000000  \n",
       "max         4.000000    2024.000000       1.000000  \n",
       "std         1.134606       0.612774       0.451238  "
      ]
     },
     "execution_count": 49,
     "metadata": {},
     "output_type": "execute_result"
    }
   ],
   "source": [
    "train_df.describe()"
   ]
  },
  {
   "cell_type": "code",
   "execution_count": 50,
   "id": "cac1928f-063f-4a73-a590-7427d805bc1b",
   "metadata": {},
   "outputs": [
    {
     "data": {
      "text/plain": [
       "ID              0\n",
       "date            0\n",
       "Item Id         0\n",
       "Item Name       0\n",
       "ad_spend        0\n",
       "anarix_id       0\n",
       "units           0\n",
       "unit_price      0\n",
       "missing_name    0\n",
       "month           0\n",
       "day_of_week     0\n",
       "quarter         0\n",
       "year            0\n",
       "is_weekend      0\n",
       "dtype: int64"
      ]
     },
     "execution_count": 50,
     "metadata": {},
     "output_type": "execute_result"
    }
   ],
   "source": [
    "train_df.isnull().sum()"
   ]
  },
  {
   "cell_type": "code",
   "execution_count": 51,
   "id": "d8903def-0060-4041-8862-57427d50c50b",
   "metadata": {},
   "outputs": [
    {
     "data": {
      "text/plain": [
       "ID              0\n",
       "date            0\n",
       "Item Id         0\n",
       "Item Name       0\n",
       "ad_spend        0\n",
       "anarix_id       0\n",
       "unit_price      0\n",
       "missing_name    0\n",
       "day_of_week     0\n",
       "month           0\n",
       "quarter         0\n",
       "year            0\n",
       "is_weekend      0\n",
       "dtype: int64"
      ]
     },
     "execution_count": 51,
     "metadata": {},
     "output_type": "execute_result"
    }
   ],
   "source": [
    "test_df.isnull().sum()"
   ]
  },
  {
   "cell_type": "code",
   "execution_count": 53,
   "id": "c0f3ce94-cbd5-432e-9fba-1e9ef0c67397",
   "metadata": {},
   "outputs": [
    {
     "name": "stdout",
     "output_type": "stream",
     "text": [
      "Shape of dataset after feature engineering: (101488, 14)\n",
      "\n",
      "New features added:\n",
      "       month  day_of_week  quarter  year\n",
      "62967      9            0        3  2023\n",
      "65359     10            1        4  2023\n",
      "69206     11            3        4  2023\n",
      "767        5            3        2  2022\n",
      "812        5            4        2  2022\n"
     ]
    }
   ],
   "source": [
    "print(\"Shape of dataset after feature engineering:\", train_df.shape)\n",
    "print(\"\\nNew features added:\")\n",
    "print(train_df[['month', 'day_of_week', 'quarter', 'year',]].head())"
   ]
  },
  {
   "cell_type": "code",
   "execution_count": 54,
   "id": "0309a68c-51b7-4fb6-9663-691b1316f3cc",
   "metadata": {},
   "outputs": [
    {
     "name": "stdout",
     "output_type": "stream",
     "text": [
      "Shape of dataset after feature engineering: (2833, 13)\n",
      "\n",
      "New features added:\n",
      "   month  day_of_week  quarter  year  is_weekend\n",
      "0      7            0        3  2024           0\n",
      "1      7            0        3  2024           0\n",
      "2      7            0        3  2024           0\n",
      "3      7            0        3  2024           0\n",
      "4      7            0        3  2024           0\n"
     ]
    }
   ],
   "source": [
    "print(\"Shape of dataset after feature engineering:\", test_df.shape)\n",
    "print(\"\\nNew features added:\")\n",
    "print(test_df[['month', 'day_of_week', 'quarter', 'year',\n",
    "       'is_weekend']].head())"
   ]
  },
  {
   "cell_type": "markdown",
   "id": "818b557a-83c7-4a9e-afc8-7b014a337d40",
   "metadata": {},
   "source": [
    "# STEP 6: MODEL SELECTION "
   ]
  },
  {
   "cell_type": "code",
   "execution_count": 55,
   "id": "df51aa70-96a2-4a07-91ef-a75102c1a1dd",
   "metadata": {},
   "outputs": [],
   "source": [
    "train_df['date'] = pd.to_datetime(train_df['date'])\n",
    "test_df['date'] = pd.to_datetime(test_df['date'])"
   ]
  },
  {
   "cell_type": "markdown",
   "id": "eeecc6c0-05df-4cad-bcb0-8d7cb1d74292",
   "metadata": {},
   "source": [
    "## b. XGBoost "
   ]
  },
  {
   "cell_type": "code",
   "execution_count": 56,
   "id": "7a3b9e4c-b461-4c4c-8822-4ad917cd3477",
   "metadata": {},
   "outputs": [
    {
     "name": "stdout",
     "output_type": "stream",
     "text": [
      "Index(['ID', 'date', 'Item Id', 'Item Name', 'ad_spend', 'anarix_id', 'units',\n",
      "       'unit_price', 'missing_name', 'month', 'day_of_week', 'quarter', 'year',\n",
      "       'is_weekend'],\n",
      "      dtype='object')\n"
     ]
    }
   ],
   "source": [
    "print(train_df.columns)"
   ]
  },
  {
   "cell_type": "code",
   "execution_count": 57,
   "id": "ebc93b7f-0d54-4096-a894-6c677e42dca5",
   "metadata": {},
   "outputs": [
    {
     "name": "stdout",
     "output_type": "stream",
     "text": [
      "Index(['ID', 'date', 'Item Id', 'Item Name', 'ad_spend', 'anarix_id',\n",
      "       'unit_price', 'missing_name', 'day_of_week', 'month', 'quarter', 'year',\n",
      "       'is_weekend'],\n",
      "      dtype='object')\n"
     ]
    }
   ],
   "source": [
    "print(test_df.columns)"
   ]
  },
  {
   "cell_type": "code",
   "execution_count": 58,
   "id": "402c6d4b-50e2-4b47-953f-f946ab645086",
   "metadata": {},
   "outputs": [],
   "source": [
    "# Separate features and target variable from training data\n",
    "X_train = train_df[features]\n",
    "y_train = train_df['units']"
   ]
  },
  {
   "cell_type": "code",
   "execution_count": 59,
   "id": "69a1eb60-d8c6-4451-9c29-b4937ff23fba",
   "metadata": {},
   "outputs": [],
   "source": [
    "X_test = test_df[features]"
   ]
  },
  {
   "cell_type": "code",
   "execution_count": 66,
   "id": "d0a7156c-2d33-4f1b-8d5b-24cfe1cd2036",
   "metadata": {},
   "outputs": [],
   "source": [
    "model = xgb.XGBRegressor(\n",
    "    subsample=0.7,\n",
    "    n_estimators=1000,\n",
    "    min_child_weight=3,\n",
    "    max_depth=3,\n",
    "    learning_rate=0.01\n",
    ")"
   ]
  },
  {
   "cell_type": "code",
   "execution_count": 67,
   "id": "87513261-a497-4435-80e7-744ca62b5b16",
   "metadata": {},
   "outputs": [
    {
     "data": {
      "text/html": [
       "<style>#sk-container-id-2 {color: black;background-color: white;}#sk-container-id-2 pre{padding: 0;}#sk-container-id-2 div.sk-toggleable {background-color: white;}#sk-container-id-2 label.sk-toggleable__label {cursor: pointer;display: block;width: 100%;margin-bottom: 0;padding: 0.3em;box-sizing: border-box;text-align: center;}#sk-container-id-2 label.sk-toggleable__label-arrow:before {content: \"▸\";float: left;margin-right: 0.25em;color: #696969;}#sk-container-id-2 label.sk-toggleable__label-arrow:hover:before {color: black;}#sk-container-id-2 div.sk-estimator:hover label.sk-toggleable__label-arrow:before {color: black;}#sk-container-id-2 div.sk-toggleable__content {max-height: 0;max-width: 0;overflow: hidden;text-align: left;background-color: #f0f8ff;}#sk-container-id-2 div.sk-toggleable__content pre {margin: 0.2em;color: black;border-radius: 0.25em;background-color: #f0f8ff;}#sk-container-id-2 input.sk-toggleable__control:checked~div.sk-toggleable__content {max-height: 200px;max-width: 100%;overflow: auto;}#sk-container-id-2 input.sk-toggleable__control:checked~label.sk-toggleable__label-arrow:before {content: \"▾\";}#sk-container-id-2 div.sk-estimator input.sk-toggleable__control:checked~label.sk-toggleable__label {background-color: #d4ebff;}#sk-container-id-2 div.sk-label input.sk-toggleable__control:checked~label.sk-toggleable__label {background-color: #d4ebff;}#sk-container-id-2 input.sk-hidden--visually {border: 0;clip: rect(1px 1px 1px 1px);clip: rect(1px, 1px, 1px, 1px);height: 1px;margin: -1px;overflow: hidden;padding: 0;position: absolute;width: 1px;}#sk-container-id-2 div.sk-estimator {font-family: monospace;background-color: #f0f8ff;border: 1px dotted black;border-radius: 0.25em;box-sizing: border-box;margin-bottom: 0.5em;}#sk-container-id-2 div.sk-estimator:hover {background-color: #d4ebff;}#sk-container-id-2 div.sk-parallel-item::after {content: \"\";width: 100%;border-bottom: 1px solid gray;flex-grow: 1;}#sk-container-id-2 div.sk-label:hover label.sk-toggleable__label {background-color: #d4ebff;}#sk-container-id-2 div.sk-serial::before {content: \"\";position: absolute;border-left: 1px solid gray;box-sizing: border-box;top: 0;bottom: 0;left: 50%;z-index: 0;}#sk-container-id-2 div.sk-serial {display: flex;flex-direction: column;align-items: center;background-color: white;padding-right: 0.2em;padding-left: 0.2em;position: relative;}#sk-container-id-2 div.sk-item {position: relative;z-index: 1;}#sk-container-id-2 div.sk-parallel {display: flex;align-items: stretch;justify-content: center;background-color: white;position: relative;}#sk-container-id-2 div.sk-item::before, #sk-container-id-2 div.sk-parallel-item::before {content: \"\";position: absolute;border-left: 1px solid gray;box-sizing: border-box;top: 0;bottom: 0;left: 50%;z-index: -1;}#sk-container-id-2 div.sk-parallel-item {display: flex;flex-direction: column;z-index: 1;position: relative;background-color: white;}#sk-container-id-2 div.sk-parallel-item:first-child::after {align-self: flex-end;width: 50%;}#sk-container-id-2 div.sk-parallel-item:last-child::after {align-self: flex-start;width: 50%;}#sk-container-id-2 div.sk-parallel-item:only-child::after {width: 0;}#sk-container-id-2 div.sk-dashed-wrapped {border: 1px dashed gray;margin: 0 0.4em 0.5em 0.4em;box-sizing: border-box;padding-bottom: 0.4em;background-color: white;}#sk-container-id-2 div.sk-label label {font-family: monospace;font-weight: bold;display: inline-block;line-height: 1.2em;}#sk-container-id-2 div.sk-label-container {text-align: center;}#sk-container-id-2 div.sk-container {/* jupyter's `normalize.less` sets `[hidden] { display: none; }` but bootstrap.min.css set `[hidden] { display: none !important; }` so we also need the `!important` here to be able to override the default hidden behavior on the sphinx rendered scikit-learn.org. See: https://github.com/scikit-learn/scikit-learn/issues/21755 */display: inline-block !important;position: relative;}#sk-container-id-2 div.sk-text-repr-fallback {display: none;}</style><div id=\"sk-container-id-2\" class=\"sk-top-container\"><div class=\"sk-text-repr-fallback\"><pre>XGBRegressor(base_score=None, booster=None, callbacks=None,\n",
       "             colsample_bylevel=None, colsample_bynode=None,\n",
       "             colsample_bytree=None, device=None, early_stopping_rounds=None,\n",
       "             enable_categorical=False, eval_metric=None, feature_types=None,\n",
       "             gamma=None, grow_policy=None, importance_type=None,\n",
       "             interaction_constraints=None, learning_rate=0.01, max_bin=None,\n",
       "             max_cat_threshold=None, max_cat_to_onehot=None,\n",
       "             max_delta_step=None, max_depth=3, max_leaves=None,\n",
       "             min_child_weight=3, missing=nan, monotone_constraints=None,\n",
       "             multi_strategy=None, n_estimators=1000, n_jobs=None,\n",
       "             num_parallel_tree=None, random_state=None, ...)</pre><b>In a Jupyter environment, please rerun this cell to show the HTML representation or trust the notebook. <br />On GitHub, the HTML representation is unable to render, please try loading this page with nbviewer.org.</b></div><div class=\"sk-container\" hidden><div class=\"sk-item\"><div class=\"sk-estimator sk-toggleable\"><input class=\"sk-toggleable__control sk-hidden--visually\" id=\"sk-estimator-id-2\" type=\"checkbox\" checked><label for=\"sk-estimator-id-2\" class=\"sk-toggleable__label sk-toggleable__label-arrow\">XGBRegressor</label><div class=\"sk-toggleable__content\"><pre>XGBRegressor(base_score=None, booster=None, callbacks=None,\n",
       "             colsample_bylevel=None, colsample_bynode=None,\n",
       "             colsample_bytree=None, device=None, early_stopping_rounds=None,\n",
       "             enable_categorical=False, eval_metric=None, feature_types=None,\n",
       "             gamma=None, grow_policy=None, importance_type=None,\n",
       "             interaction_constraints=None, learning_rate=0.01, max_bin=None,\n",
       "             max_cat_threshold=None, max_cat_to_onehot=None,\n",
       "             max_delta_step=None, max_depth=3, max_leaves=None,\n",
       "             min_child_weight=3, missing=nan, monotone_constraints=None,\n",
       "             multi_strategy=None, n_estimators=1000, n_jobs=None,\n",
       "             num_parallel_tree=None, random_state=None, ...)</pre></div></div></div></div></div>"
      ],
      "text/plain": [
       "XGBRegressor(base_score=None, booster=None, callbacks=None,\n",
       "             colsample_bylevel=None, colsample_bynode=None,\n",
       "             colsample_bytree=None, device=None, early_stopping_rounds=None,\n",
       "             enable_categorical=False, eval_metric=None, feature_types=None,\n",
       "             gamma=None, grow_policy=None, importance_type=None,\n",
       "             interaction_constraints=None, learning_rate=0.01, max_bin=None,\n",
       "             max_cat_threshold=None, max_cat_to_onehot=None,\n",
       "             max_delta_step=None, max_depth=3, max_leaves=None,\n",
       "             min_child_weight=3, missing=nan, monotone_constraints=None,\n",
       "             multi_strategy=None, n_estimators=1000, n_jobs=None,\n",
       "             num_parallel_tree=None, random_state=None, ...)"
      ]
     },
     "execution_count": 67,
     "metadata": {},
     "output_type": "execute_result"
    }
   ],
   "source": [
    "model.fit(X_train, y_train)"
   ]
  },
  {
   "cell_type": "code",
   "execution_count": 68,
   "id": "55635ce4-5133-49e9-9a92-70a426f96d64",
   "metadata": {},
   "outputs": [
    {
     "name": "stdout",
     "output_type": "stream",
     "text": [
      "[0]\tvalidation_0-rmse:62.67904\n",
      "[100]\tvalidation_0-rmse:62.61096\n",
      "[200]\tvalidation_0-rmse:62.58460\n",
      "[300]\tvalidation_0-rmse:62.57098\n",
      "[400]\tvalidation_0-rmse:62.56220\n",
      "[500]\tvalidation_0-rmse:62.55689\n",
      "[600]\tvalidation_0-rmse:62.55265\n",
      "[700]\tvalidation_0-rmse:62.54844\n",
      "[800]\tvalidation_0-rmse:62.54572\n",
      "[900]\tvalidation_0-rmse:62.54352\n",
      "[999]\tvalidation_0-rmse:62.54133\n"
     ]
    },
    {
     "data": {
      "text/html": [
       "<style>#sk-container-id-3 {color: black;background-color: white;}#sk-container-id-3 pre{padding: 0;}#sk-container-id-3 div.sk-toggleable {background-color: white;}#sk-container-id-3 label.sk-toggleable__label {cursor: pointer;display: block;width: 100%;margin-bottom: 0;padding: 0.3em;box-sizing: border-box;text-align: center;}#sk-container-id-3 label.sk-toggleable__label-arrow:before {content: \"▸\";float: left;margin-right: 0.25em;color: #696969;}#sk-container-id-3 label.sk-toggleable__label-arrow:hover:before {color: black;}#sk-container-id-3 div.sk-estimator:hover label.sk-toggleable__label-arrow:before {color: black;}#sk-container-id-3 div.sk-toggleable__content {max-height: 0;max-width: 0;overflow: hidden;text-align: left;background-color: #f0f8ff;}#sk-container-id-3 div.sk-toggleable__content pre {margin: 0.2em;color: black;border-radius: 0.25em;background-color: #f0f8ff;}#sk-container-id-3 input.sk-toggleable__control:checked~div.sk-toggleable__content {max-height: 200px;max-width: 100%;overflow: auto;}#sk-container-id-3 input.sk-toggleable__control:checked~label.sk-toggleable__label-arrow:before {content: \"▾\";}#sk-container-id-3 div.sk-estimator input.sk-toggleable__control:checked~label.sk-toggleable__label {background-color: #d4ebff;}#sk-container-id-3 div.sk-label input.sk-toggleable__control:checked~label.sk-toggleable__label {background-color: #d4ebff;}#sk-container-id-3 input.sk-hidden--visually {border: 0;clip: rect(1px 1px 1px 1px);clip: rect(1px, 1px, 1px, 1px);height: 1px;margin: -1px;overflow: hidden;padding: 0;position: absolute;width: 1px;}#sk-container-id-3 div.sk-estimator {font-family: monospace;background-color: #f0f8ff;border: 1px dotted black;border-radius: 0.25em;box-sizing: border-box;margin-bottom: 0.5em;}#sk-container-id-3 div.sk-estimator:hover {background-color: #d4ebff;}#sk-container-id-3 div.sk-parallel-item::after {content: \"\";width: 100%;border-bottom: 1px solid gray;flex-grow: 1;}#sk-container-id-3 div.sk-label:hover label.sk-toggleable__label {background-color: #d4ebff;}#sk-container-id-3 div.sk-serial::before {content: \"\";position: absolute;border-left: 1px solid gray;box-sizing: border-box;top: 0;bottom: 0;left: 50%;z-index: 0;}#sk-container-id-3 div.sk-serial {display: flex;flex-direction: column;align-items: center;background-color: white;padding-right: 0.2em;padding-left: 0.2em;position: relative;}#sk-container-id-3 div.sk-item {position: relative;z-index: 1;}#sk-container-id-3 div.sk-parallel {display: flex;align-items: stretch;justify-content: center;background-color: white;position: relative;}#sk-container-id-3 div.sk-item::before, #sk-container-id-3 div.sk-parallel-item::before {content: \"\";position: absolute;border-left: 1px solid gray;box-sizing: border-box;top: 0;bottom: 0;left: 50%;z-index: -1;}#sk-container-id-3 div.sk-parallel-item {display: flex;flex-direction: column;z-index: 1;position: relative;background-color: white;}#sk-container-id-3 div.sk-parallel-item:first-child::after {align-self: flex-end;width: 50%;}#sk-container-id-3 div.sk-parallel-item:last-child::after {align-self: flex-start;width: 50%;}#sk-container-id-3 div.sk-parallel-item:only-child::after {width: 0;}#sk-container-id-3 div.sk-dashed-wrapped {border: 1px dashed gray;margin: 0 0.4em 0.5em 0.4em;box-sizing: border-box;padding-bottom: 0.4em;background-color: white;}#sk-container-id-3 div.sk-label label {font-family: monospace;font-weight: bold;display: inline-block;line-height: 1.2em;}#sk-container-id-3 div.sk-label-container {text-align: center;}#sk-container-id-3 div.sk-container {/* jupyter's `normalize.less` sets `[hidden] { display: none; }` but bootstrap.min.css set `[hidden] { display: none !important; }` so we also need the `!important` here to be able to override the default hidden behavior on the sphinx rendered scikit-learn.org. See: https://github.com/scikit-learn/scikit-learn/issues/21755 */display: inline-block !important;position: relative;}#sk-container-id-3 div.sk-text-repr-fallback {display: none;}</style><div id=\"sk-container-id-3\" class=\"sk-top-container\"><div class=\"sk-text-repr-fallback\"><pre>XGBRegressor(base_score=None, booster=None, callbacks=None,\n",
       "             colsample_bylevel=None, colsample_bynode=None,\n",
       "             colsample_bytree=None, device=None, early_stopping_rounds=None,\n",
       "             enable_categorical=False, eval_metric=None, feature_types=None,\n",
       "             gamma=None, grow_policy=None, importance_type=None,\n",
       "             interaction_constraints=None, learning_rate=0.01, max_bin=None,\n",
       "             max_cat_threshold=None, max_cat_to_onehot=None,\n",
       "             max_delta_step=None, max_depth=3, max_leaves=None,\n",
       "             min_child_weight=3, missing=nan, monotone_constraints=None,\n",
       "             multi_strategy=None, n_estimators=1000, n_jobs=None,\n",
       "             num_parallel_tree=None, random_state=None, ...)</pre><b>In a Jupyter environment, please rerun this cell to show the HTML representation or trust the notebook. <br />On GitHub, the HTML representation is unable to render, please try loading this page with nbviewer.org.</b></div><div class=\"sk-container\" hidden><div class=\"sk-item\"><div class=\"sk-estimator sk-toggleable\"><input class=\"sk-toggleable__control sk-hidden--visually\" id=\"sk-estimator-id-3\" type=\"checkbox\" checked><label for=\"sk-estimator-id-3\" class=\"sk-toggleable__label sk-toggleable__label-arrow\">XGBRegressor</label><div class=\"sk-toggleable__content\"><pre>XGBRegressor(base_score=None, booster=None, callbacks=None,\n",
       "             colsample_bylevel=None, colsample_bynode=None,\n",
       "             colsample_bytree=None, device=None, early_stopping_rounds=None,\n",
       "             enable_categorical=False, eval_metric=None, feature_types=None,\n",
       "             gamma=None, grow_policy=None, importance_type=None,\n",
       "             interaction_constraints=None, learning_rate=0.01, max_bin=None,\n",
       "             max_cat_threshold=None, max_cat_to_onehot=None,\n",
       "             max_delta_step=None, max_depth=3, max_leaves=None,\n",
       "             min_child_weight=3, missing=nan, monotone_constraints=None,\n",
       "             multi_strategy=None, n_estimators=1000, n_jobs=None,\n",
       "             num_parallel_tree=None, random_state=None, ...)</pre></div></div></div></div></div>"
      ],
      "text/plain": [
       "XGBRegressor(base_score=None, booster=None, callbacks=None,\n",
       "             colsample_bylevel=None, colsample_bynode=None,\n",
       "             colsample_bytree=None, device=None, early_stopping_rounds=None,\n",
       "             enable_categorical=False, eval_metric=None, feature_types=None,\n",
       "             gamma=None, grow_policy=None, importance_type=None,\n",
       "             interaction_constraints=None, learning_rate=0.01, max_bin=None,\n",
       "             max_cat_threshold=None, max_cat_to_onehot=None,\n",
       "             max_delta_step=None, max_depth=3, max_leaves=None,\n",
       "             min_child_weight=3, missing=nan, monotone_constraints=None,\n",
       "             multi_strategy=None, n_estimators=1000, n_jobs=None,\n",
       "             num_parallel_tree=None, random_state=None, ...)"
      ]
     },
     "execution_count": 68,
     "metadata": {},
     "output_type": "execute_result"
    }
   ],
   "source": [
    "model.fit(\n",
    "    X_train, y_train,\n",
    "    eval_set=[(X_train, y_train)],\n",
    "    verbose=100\n",
    ")"
   ]
  },
  {
   "cell_type": "code",
   "execution_count": 62,
   "id": "aacb32cb-eba5-492e-a3ea-382f788654ea",
   "metadata": {},
   "outputs": [],
   "source": [
    "test_df['units_pred'] = model.predict(X_test)"
   ]
  },
  {
   "cell_type": "code",
   "execution_count": 63,
   "id": "07593876-0dad-455f-9660-3cecbbae52d5",
   "metadata": {},
   "outputs": [],
   "source": [
    "submission = test_df[['ID']]\n",
    "submission['Target'] = test_df['units_pred']"
   ]
  },
  {
   "cell_type": "code",
   "execution_count": 64,
   "id": "5ed62e37-393d-433c-bf2a-f23933e847a8",
   "metadata": {},
   "outputs": [
    {
     "name": "stdout",
     "output_type": "stream",
     "text": [
      "Submission file created successfully!\n"
     ]
    }
   ],
   "source": [
    "submission.to_csv('submission.csv', index=False)\n",
    "print(\"Submission file created successfully!\")"
   ]
  },
  {
   "cell_type": "code",
   "execution_count": 70,
   "id": "c6306808-0295-4d94-b3d5-d6413734eee3",
   "metadata": {},
   "outputs": [
    {
     "data": {
      "image/png": "[encoded data removed]",
      "text/plain": [
       "<Figure size 1000x600 with 1 Axes>"
      ]
     },
     "metadata": {},
     "output_type": "display_data"
    }
   ],
   "source": [
    "feature_importance = model.feature_importances_\n",
    "importance_df = pd.DataFrame({\n",
    "    'Feature': features,\n",
    "    'Importance': feature_importance\n",
    "})\n",
    "importance_df = importance_df.sort_values(by='Importance', ascending=False)\n",
    "\n",
    "plt.figure(figsize=(10, 6))\n",
    "plt.barh(importance_df['Feature'], importance_df['Importance'])\n",
    "plt.xlabel('Importance')\n",
    "plt.ylabel('Feature')\n",
    "plt.title('Feature Importance')\n",
    "plt.show()"
   ]
  },
  {
   "cell_type": "code",
   "execution_count": 71,
   "id": "d3f08bf6-dd78-4631-b779-b0c7a781169b",
   "metadata": {},
   "outputs": [
    {
     "name": "stdout",
     "output_type": "stream",
     "text": [
      "Mean Squared Error: 3911.418409604966\n"
     ]
    }
   ],
   "source": [
    "from sklearn.metrics import mean_squared_error\n",
    "train_predictions = model.predict(X_train)\n",
    "\n",
    "mse = mean_squared_error(y_train, train_predictions)\n",
    "\n",
    "print(f\"Mean Squared Error: {mse}\")"
   ]
  },
  {
   "cell_type": "markdown",
   "id": "2564ccb2-469c-43b0-8230-ef65742c450b",
   "metadata": {},
   "source": [
    "# PERFORMING HYPER PARAMETER TUNING "
   ]
  },
  {
   "cell_type": "code",
   "execution_count": 83,
   "id": "f428c1bb-b3cf-446b-af03-f84f1f45b71d",
   "metadata": {},
   "outputs": [],
   "source": [
    "import pandas as pd\n",
    "import numpy as np\n",
    "from sklearn.model_selection import train_test_split, GridSearchCV\n",
    "from sklearn.metrics import mean_squared_error\n",
    "from xgboost import XGBRegressor"
   ]
  },
  {
   "cell_type": "code",
   "execution_count": 77,
   "id": "5d343586-9316-4d2d-be5b-c95ea8e35dfd",
   "metadata": {},
   "outputs": [],
   "source": [
    "features = ['day_of_week', 'month', 'quarter', 'year', 'is_weekend']\n",
    "target = 'units'"
   ]
  },
  {
   "cell_type": "code",
   "execution_count": 78,
   "id": "688231bb-b17c-46c4-a351-151b1ef12455",
   "metadata": {},
   "outputs": [],
   "source": [
    "X_train = train_df[features]\n",
    "y_train = train_df[target]"
   ]
  },
  {
   "cell_type": "code",
   "execution_count": 81,
   "id": "4d8fff6c-a460-4df7-b15c-bd3db241a68a",
   "metadata": {},
   "outputs": [],
   "source": [
    "X_train_split, X_val, y_train_split, y_val = train_test_split(X_train, y_train, test_size=0.2, random_state=42)"
   ]
  },
  {
   "cell_type": "code",
   "execution_count": 84,
   "id": "2a412579-000a-4ed6-89a9-14e34ddbc863",
   "metadata": {},
   "outputs": [],
   "source": [
    "xgb = XGBRegressor()"
   ]
  },
  {
   "cell_type": "code",
   "execution_count": 85,
   "id": "2ad740b6-55a7-419e-b118-3882856af07d",
   "metadata": {},
   "outputs": [],
   "source": [
    "# Hyperparameter tuning\n",
    "param_grid = {\n",
    "    'n_estimators': [100, 200],\n",
    "    'learning_rate': [0.01, 0.1],\n",
    "    'max_depth': [3, 5],\n",
    "    'min_child_weight': [1, 3],\n",
    "    'subsample': [0.7, 1.0],\n",
    "    'colsample_bytree': [0.7, 1.0]\n",
    "}"
   ]
  },
  {
   "cell_type": "code",
   "execution_count": 86,
   "id": "a4910af2-4006-455e-b496-359d6221c560",
   "metadata": {},
   "outputs": [
    {
     "name": "stdout",
     "output_type": "stream",
     "text": [
      "Fitting 3 folds for each of 64 candidates, totalling 192 fits\n",
      "[CV] END colsample_bytree=0.7, learning_rate=0.01, max_depth=3, min_child_weight=1, n_estimators=100, subsample=0.7; total time=   0.1s\n",
      "[CV] END colsample_bytree=0.7, learning_rate=0.01, max_depth=3, min_child_weight=1, n_estimators=100, subsample=0.7; total time=   0.1s\n",
      "[CV] END colsample_bytree=0.7, learning_rate=0.01, max_depth=3, min_child_weight=1, n_estimators=100, subsample=0.7; total time=   0.1s\n",
      "[CV] END colsample_bytree=0.7, learning_rate=0.01, max_depth=3, min_child_weight=1, n_estimators=100, subsample=1.0; total time=   0.1s\n",
      "[CV] END colsample_bytree=0.7, learning_rate=0.01, max_depth=3, min_child_weight=1, n_estimators=100, subsample=1.0; total time=   0.1s\n",
      "[CV] END colsample_bytree=0.7, learning_rate=0.01, max_depth=3, min_child_weight=1, n_estimators=100, subsample=1.0; total time=   0.1s\n",
      "[CV] END colsample_bytree=0.7, learning_rate=0.01, max_depth=3, min_child_weight=1, n_estimators=200, subsample=0.7; total time=   0.1s\n",
      "[CV] END colsample_bytree=0.7, learning_rate=0.01, max_depth=3, min_child_weight=1, n_estimators=200, subsample=0.7; total time=   0.2s\n",
      "[CV] END colsample_bytree=0.7, learning_rate=0.01, max_depth=3, min_child_weight=1, n_estimators=200, subsample=0.7; total time=   0.1s\n",
      "[CV] END colsample_bytree=0.7, learning_rate=0.01, max_depth=3, min_child_weight=1, n_estimators=200, subsample=1.0; total time=   0.2s\n",
      "[CV] END colsample_bytree=0.7, learning_rate=0.01, max_depth=3, min_child_weight=1, n_estimators=200, subsample=1.0; total time=   0.1s\n",
      "[CV] END colsample_bytree=0.7, learning_rate=0.01, max_depth=3, min_child_weight=1, n_estimators=200, subsample=1.0; total time=   0.1s\n",
      "[CV] END colsample_bytree=0.7, learning_rate=0.01, max_depth=3, min_child_weight=3, n_estimators=100, subsample=0.7; total time=   0.1s\n",
      "[CV] END colsample_bytree=0.7, learning_rate=0.01, max_depth=3, min_child_weight=3, n_estimators=100, subsample=0.7; total time=   0.1s\n",
      "[CV] END colsample_bytree=0.7, learning_rate=0.01, max_depth=3, min_child_weight=3, n_estimators=100, subsample=0.7; total time=   0.1s\n",
      "[CV] END colsample_bytree=0.7, learning_rate=0.01, max_depth=3, min_child_weight=3, n_estimators=100, subsample=1.0; total time=   0.1s\n",
      "[CV] END colsample_bytree=0.7, learning_rate=0.01, max_depth=3, min_child_weight=3, n_estimators=100, subsample=1.0; total time=   0.1s\n",
      "[CV] END colsample_bytree=0.7, learning_rate=0.01, max_depth=3, min_child_weight=3, n_estimators=100, subsample=1.0; total time=   0.1s\n",
      "[CV] END colsample_bytree=0.7, learning_rate=0.01, max_depth=3, min_child_weight=3, n_estimators=200, subsample=0.7; total time=   0.1s\n",
      "[CV] END colsample_bytree=0.7, learning_rate=0.01, max_depth=3, min_child_weight=3, n_estimators=200, subsample=0.7; total time=   0.1s\n",
      "[CV] END colsample_bytree=0.7, learning_rate=0.01, max_depth=3, min_child_weight=3, n_estimators=200, subsample=0.7; total time=   0.2s\n",
      "[CV] END colsample_bytree=0.7, learning_rate=0.01, max_depth=3, min_child_weight=3, n_estimators=200, subsample=1.0; total time=   0.1s\n",
      "[CV] END colsample_bytree=0.7, learning_rate=0.01, max_depth=3, min_child_weight=3, n_estimators=200, subsample=1.0; total time=   0.1s\n",
      "[CV] END colsample_bytree=0.7, learning_rate=0.01, max_depth=3, min_child_weight=3, n_estimators=200, subsample=1.0; total time=   0.1s\n",
      "[CV] END colsample_bytree=0.7, learning_rate=0.01, max_depth=5, min_child_weight=1, n_estimators=100, subsample=0.7; total time=   0.1s\n",
      "[CV] END colsample_bytree=0.7, learning_rate=0.01, max_depth=5, min_child_weight=1, n_estimators=100, subsample=0.7; total time=   0.1s\n",
      "[CV] END colsample_bytree=0.7, learning_rate=0.01, max_depth=5, min_child_weight=1, n_estimators=100, subsample=0.7; total time=   0.1s\n",
      "[CV] END colsample_bytree=0.7, learning_rate=0.01, max_depth=5, min_child_weight=1, n_estimators=100, subsample=1.0; total time=   0.1s\n",
      "[CV] END colsample_bytree=0.7, learning_rate=0.01, max_depth=5, min_child_weight=1, n_estimators=100, subsample=1.0; total time=   0.1s\n",
      "[CV] END colsample_bytree=0.7, learning_rate=0.01, max_depth=5, min_child_weight=1, n_estimators=100, subsample=1.0; total time=   0.1s\n",
      "[CV] END colsample_bytree=0.7, learning_rate=0.01, max_depth=5, min_child_weight=1, n_estimators=200, subsample=0.7; total time=   0.3s\n",
      "[CV] END colsample_bytree=0.7, learning_rate=0.01, max_depth=5, min_child_weight=1, n_estimators=200, subsample=0.7; total time=   0.2s\n",
      "[CV] END colsample_bytree=0.7, learning_rate=0.01, max_depth=5, min_child_weight=1, n_estimators=200, subsample=0.7; total time=   0.3s\n",
      "[CV] END colsample_bytree=0.7, learning_rate=0.01, max_depth=5, min_child_weight=1, n_estimators=200, subsample=1.0; total time=   0.2s\n",
      "[CV] END colsample_bytree=0.7, learning_rate=0.01, max_depth=5, min_child_weight=1, n_estimators=200, subsample=1.0; total time=   0.2s\n",
      "[CV] END colsample_bytree=0.7, learning_rate=0.01, max_depth=5, min_child_weight=1, n_estimators=200, subsample=1.0; total time=   0.2s\n",
      "[CV] END colsample_bytree=0.7, learning_rate=0.01, max_depth=5, min_child_weight=3, n_estimators=100, subsample=0.7; total time=   0.1s\n",
      "[CV] END colsample_bytree=0.7, learning_rate=0.01, max_depth=5, min_child_weight=3, n_estimators=100, subsample=0.7; total time=   0.1s\n",
      "[CV] END colsample_bytree=0.7, learning_rate=0.01, max_depth=5, min_child_weight=3, n_estimators=100, subsample=0.7; total time=   0.1s\n",
      "[CV] END colsample_bytree=0.7, learning_rate=0.01, max_depth=5, min_child_weight=3, n_estimators=100, subsample=1.0; total time=   0.1s\n",
      "[CV] END colsample_bytree=0.7, learning_rate=0.01, max_depth=5, min_child_weight=3, n_estimators=100, subsample=1.0; total time=   0.1s\n",
      "[CV] END colsample_bytree=0.7, learning_rate=0.01, max_depth=5, min_child_weight=3, n_estimators=100, subsample=1.0; total time=   0.1s\n",
      "[CV] END colsample_bytree=0.7, learning_rate=0.01, max_depth=5, min_child_weight=3, n_estimators=200, subsample=0.7; total time=   0.3s\n",
      "[CV] END colsample_bytree=0.7, learning_rate=0.01, max_depth=5, min_child_weight=3, n_estimators=200, subsample=0.7; total time=   0.2s\n",
      "[CV] END colsample_bytree=0.7, learning_rate=0.01, max_depth=5, min_child_weight=3, n_estimators=200, subsample=0.7; total time=   0.2s\n",
      "[CV] END colsample_bytree=0.7, learning_rate=0.01, max_depth=5, min_child_weight=3, n_estimators=200, subsample=1.0; total time=   0.2s\n",
      "[CV] END colsample_bytree=0.7, learning_rate=0.01, max_depth=5, min_child_weight=3, n_estimators=200, subsample=1.0; total time=   0.2s\n",
      "[CV] END colsample_bytree=0.7, learning_rate=0.01, max_depth=5, min_child_weight=3, n_estimators=200, subsample=1.0; total time=   0.2s\n",
      "[CV] END colsample_bytree=0.7, learning_rate=0.1, max_depth=3, min_child_weight=1, n_estimators=100, subsample=0.7; total time=   0.1s\n",
      "[CV] END colsample_bytree=0.7, learning_rate=0.1, max_depth=3, min_child_weight=1, n_estimators=100, subsample=0.7; total time=   0.1s\n",
      "[CV] END colsample_bytree=0.7, learning_rate=0.1, max_depth=3, min_child_weight=1, n_estimators=100, subsample=0.7; total time=   0.1s\n",
      "[CV] END colsample_bytree=0.7, learning_rate=0.1, max_depth=3, min_child_weight=1, n_estimators=100, subsample=1.0; total time=   0.1s\n",
      "[CV] END colsample_bytree=0.7, learning_rate=0.1, max_depth=3, min_child_weight=1, n_estimators=100, subsample=1.0; total time=   0.1s\n",
      "[CV] END colsample_bytree=0.7, learning_rate=0.1, max_depth=3, min_child_weight=1, n_estimators=100, subsample=1.0; total time=   0.1s\n",
      "[CV] END colsample_bytree=0.7, learning_rate=0.1, max_depth=3, min_child_weight=1, n_estimators=200, subsample=0.7; total time=   0.2s\n",
      "[CV] END colsample_bytree=0.7, learning_rate=0.1, max_depth=3, min_child_weight=1, n_estimators=200, subsample=0.7; total time=   0.2s\n",
      "[CV] END colsample_bytree=0.7, learning_rate=0.1, max_depth=3, min_child_weight=1, n_estimators=200, subsample=0.7; total time=   0.2s\n",
      "[CV] END colsample_bytree=0.7, learning_rate=0.1, max_depth=3, min_child_weight=1, n_estimators=200, subsample=1.0; total time=   0.1s\n",
      "[CV] END colsample_bytree=0.7, learning_rate=0.1, max_depth=3, min_child_weight=1, n_estimators=200, subsample=1.0; total time=   0.2s\n",
      "[CV] END colsample_bytree=0.7, learning_rate=0.1, max_depth=3, min_child_weight=1, n_estimators=200, subsample=1.0; total time=   0.1s\n",
      "[CV] END colsample_bytree=0.7, learning_rate=0.1, max_depth=3, min_child_weight=3, n_estimators=100, subsample=0.7; total time=   0.1s\n",
      "[CV] END colsample_bytree=0.7, learning_rate=0.1, max_depth=3, min_child_weight=3, n_estimators=100, subsample=0.7; total time=   0.1s\n",
      "[CV] END colsample_bytree=0.7, learning_rate=0.1, max_depth=3, min_child_weight=3, n_estimators=100, subsample=0.7; total time=   0.1s\n",
      "[CV] END colsample_bytree=0.7, learning_rate=0.1, max_depth=3, min_child_weight=3, n_estimators=100, subsample=1.0; total time=   0.1s\n",
      "[CV] END colsample_bytree=0.7, learning_rate=0.1, max_depth=3, min_child_weight=3, n_estimators=100, subsample=1.0; total time=   0.1s\n",
      "[CV] END colsample_bytree=0.7, learning_rate=0.1, max_depth=3, min_child_weight=3, n_estimators=100, subsample=1.0; total time=   0.1s\n",
      "[CV] END colsample_bytree=0.7, learning_rate=0.1, max_depth=3, min_child_weight=3, n_estimators=200, subsample=0.7; total time=   0.1s\n",
      "[CV] END colsample_bytree=0.7, learning_rate=0.1, max_depth=3, min_child_weight=3, n_estimators=200, subsample=0.7; total time=   0.2s\n",
      "[CV] END colsample_bytree=0.7, learning_rate=0.1, max_depth=3, min_child_weight=3, n_estimators=200, subsample=0.7; total time=   0.1s\n",
      "[CV] END colsample_bytree=0.7, learning_rate=0.1, max_depth=3, min_child_weight=3, n_estimators=200, subsample=1.0; total time=   0.1s\n",
      "[CV] END colsample_bytree=0.7, learning_rate=0.1, max_depth=3, min_child_weight=3, n_estimators=200, subsample=1.0; total time=   0.2s\n",
      "[CV] END colsample_bytree=0.7, learning_rate=0.1, max_depth=3, min_child_weight=3, n_estimators=200, subsample=1.0; total time=   0.2s\n",
      "[CV] END colsample_bytree=0.7, learning_rate=0.1, max_depth=5, min_child_weight=1, n_estimators=100, subsample=0.7; total time=   0.1s\n",
      "[CV] END colsample_bytree=0.7, learning_rate=0.1, max_depth=5, min_child_weight=1, n_estimators=100, subsample=0.7; total time=   0.2s\n",
      "[CV] END colsample_bytree=0.7, learning_rate=0.1, max_depth=5, min_child_weight=1, n_estimators=100, subsample=0.7; total time=   0.2s\n",
      "[CV] END colsample_bytree=0.7, learning_rate=0.1, max_depth=5, min_child_weight=1, n_estimators=100, subsample=1.0; total time=   0.1s\n",
      "[CV] END colsample_bytree=0.7, learning_rate=0.1, max_depth=5, min_child_weight=1, n_estimators=100, subsample=1.0; total time=   0.1s\n",
      "[CV] END colsample_bytree=0.7, learning_rate=0.1, max_depth=5, min_child_weight=1, n_estimators=100, subsample=1.0; total time=   0.1s\n",
      "[CV] END colsample_bytree=0.7, learning_rate=0.1, max_depth=5, min_child_weight=1, n_estimators=200, subsample=0.7; total time=   0.2s\n",
      "[CV] END colsample_bytree=0.7, learning_rate=0.1, max_depth=5, min_child_weight=1, n_estimators=200, subsample=0.7; total time=   0.2s\n",
      "[CV] END colsample_bytree=0.7, learning_rate=0.1, max_depth=5, min_child_weight=1, n_estimators=200, subsample=0.7; total time=   0.2s\n",
      "[CV] END colsample_bytree=0.7, learning_rate=0.1, max_depth=5, min_child_weight=1, n_estimators=200, subsample=1.0; total time=   0.2s\n",
      "[CV] END colsample_bytree=0.7, learning_rate=0.1, max_depth=5, min_child_weight=1, n_estimators=200, subsample=1.0; total time=   0.2s\n",
      "[CV] END colsample_bytree=0.7, learning_rate=0.1, max_depth=5, min_child_weight=1, n_estimators=200, subsample=1.0; total time=   0.2s\n",
      "[CV] END colsample_bytree=0.7, learning_rate=0.1, max_depth=5, min_child_weight=3, n_estimators=100, subsample=0.7; total time=   0.1s\n",
      "[CV] END colsample_bytree=0.7, learning_rate=0.1, max_depth=5, min_child_weight=3, n_estimators=100, subsample=0.7; total time=   0.1s\n",
      "[CV] END colsample_bytree=0.7, learning_rate=0.1, max_depth=5, min_child_weight=3, n_estimators=100, subsample=0.7; total time=   0.1s\n",
      "[CV] END colsample_bytree=0.7, learning_rate=0.1, max_depth=5, min_child_weight=3, n_estimators=100, subsample=1.0; total time=   0.1s\n",
      "[CV] END colsample_bytree=0.7, learning_rate=0.1, max_depth=5, min_child_weight=3, n_estimators=100, subsample=1.0; total time=   0.1s\n",
      "[CV] END colsample_bytree=0.7, learning_rate=0.1, max_depth=5, min_child_weight=3, n_estimators=100, subsample=1.0; total time=   0.1s\n",
      "[CV] END colsample_bytree=0.7, learning_rate=0.1, max_depth=5, min_child_weight=3, n_estimators=200, subsample=0.7; total time=   0.3s\n",
      "[CV] END colsample_bytree=0.7, learning_rate=0.1, max_depth=5, min_child_weight=3, n_estimators=200, subsample=0.7; total time=   0.2s\n",
      "[CV] END colsample_bytree=0.7, learning_rate=0.1, max_depth=5, min_child_weight=3, n_estimators=200, subsample=0.7; total time=   0.3s\n",
      "[CV] END colsample_bytree=0.7, learning_rate=0.1, max_depth=5, min_child_weight=3, n_estimators=200, subsample=1.0; total time=   0.3s\n",
      "[CV] END colsample_bytree=0.7, learning_rate=0.1, max_depth=5, min_child_weight=3, n_estimators=200, subsample=1.0; total time=   0.2s\n",
      "[CV] END colsample_bytree=0.7, learning_rate=0.1, max_depth=5, min_child_weight=3, n_estimators=200, subsample=1.0; total time=   0.2s\n",
      "[CV] END colsample_bytree=1.0, learning_rate=0.01, max_depth=3, min_child_weight=1, n_estimators=100, subsample=0.7; total time=   0.1s\n",
      "[CV] END colsample_bytree=1.0, learning_rate=0.01, max_depth=3, min_child_weight=1, n_estimators=100, subsample=0.7; total time=   0.1s\n",
      "[CV] END colsample_bytree=1.0, learning_rate=0.01, max_depth=3, min_child_weight=1, n_estimators=100, subsample=0.7; total time=   0.1s\n",
      "[CV] END colsample_bytree=1.0, learning_rate=0.01, max_depth=3, min_child_weight=1, n_estimators=100, subsample=1.0; total time=   0.1s\n",
      "[CV] END colsample_bytree=1.0, learning_rate=0.01, max_depth=3, min_child_weight=1, n_estimators=100, subsample=1.0; total time=   0.1s\n",
      "[CV] END colsample_bytree=1.0, learning_rate=0.01, max_depth=3, min_child_weight=1, n_estimators=100, subsample=1.0; total time=   0.1s\n",
      "[CV] END colsample_bytree=1.0, learning_rate=0.01, max_depth=3, min_child_weight=1, n_estimators=200, subsample=0.7; total time=   0.1s\n",
      "[CV] END colsample_bytree=1.0, learning_rate=0.01, max_depth=3, min_child_weight=1, n_estimators=200, subsample=0.7; total time=   0.2s\n",
      "[CV] END colsample_bytree=1.0, learning_rate=0.01, max_depth=3, min_child_weight=1, n_estimators=200, subsample=0.7; total time=   0.2s\n",
      "[CV] END colsample_bytree=1.0, learning_rate=0.01, max_depth=3, min_child_weight=1, n_estimators=200, subsample=1.0; total time=   0.2s\n",
      "[CV] END colsample_bytree=1.0, learning_rate=0.01, max_depth=3, min_child_weight=1, n_estimators=200, subsample=1.0; total time=   0.1s\n",
      "[CV] END colsample_bytree=1.0, learning_rate=0.01, max_depth=3, min_child_weight=1, n_estimators=200, subsample=1.0; total time=   0.2s\n",
      "[CV] END colsample_bytree=1.0, learning_rate=0.01, max_depth=3, min_child_weight=3, n_estimators=100, subsample=0.7; total time=   0.1s\n",
      "[CV] END colsample_bytree=1.0, learning_rate=0.01, max_depth=3, min_child_weight=3, n_estimators=100, subsample=0.7; total time=   0.1s\n",
      "[CV] END colsample_bytree=1.0, learning_rate=0.01, max_depth=3, min_child_weight=3, n_estimators=100, subsample=0.7; total time=   0.1s\n",
      "[CV] END colsample_bytree=1.0, learning_rate=0.01, max_depth=3, min_child_weight=3, n_estimators=100, subsample=1.0; total time=   0.1s\n",
      "[CV] END colsample_bytree=1.0, learning_rate=0.01, max_depth=3, min_child_weight=3, n_estimators=100, subsample=1.0; total time=   0.1s\n",
      "[CV] END colsample_bytree=1.0, learning_rate=0.01, max_depth=3, min_child_weight=3, n_estimators=100, subsample=1.0; total time=   0.1s\n",
      "[CV] END colsample_bytree=1.0, learning_rate=0.01, max_depth=3, min_child_weight=3, n_estimators=200, subsample=0.7; total time=   0.2s\n",
      "[CV] END colsample_bytree=1.0, learning_rate=0.01, max_depth=3, min_child_weight=3, n_estimators=200, subsample=0.7; total time=   0.2s\n",
      "[CV] END colsample_bytree=1.0, learning_rate=0.01, max_depth=3, min_child_weight=3, n_estimators=200, subsample=0.7; total time=   0.2s\n",
      "[CV] END colsample_bytree=1.0, learning_rate=0.01, max_depth=3, min_child_weight=3, n_estimators=200, subsample=1.0; total time=   0.2s\n",
      "[CV] END colsample_bytree=1.0, learning_rate=0.01, max_depth=3, min_child_weight=3, n_estimators=200, subsample=1.0; total time=   0.1s\n",
      "[CV] END colsample_bytree=1.0, learning_rate=0.01, max_depth=3, min_child_weight=3, n_estimators=200, subsample=1.0; total time=   0.2s\n",
      "[CV] END colsample_bytree=1.0, learning_rate=0.01, max_depth=5, min_child_weight=1, n_estimators=100, subsample=0.7; total time=   0.1s\n",
      "[CV] END colsample_bytree=1.0, learning_rate=0.01, max_depth=5, min_child_weight=1, n_estimators=100, subsample=0.7; total time=   0.1s\n",
      "[CV] END colsample_bytree=1.0, learning_rate=0.01, max_depth=5, min_child_weight=1, n_estimators=100, subsample=0.7; total time=   0.1s\n",
      "[CV] END colsample_bytree=1.0, learning_rate=0.01, max_depth=5, min_child_weight=1, n_estimators=100, subsample=1.0; total time=   0.1s\n",
      "[CV] END colsample_bytree=1.0, learning_rate=0.01, max_depth=5, min_child_weight=1, n_estimators=100, subsample=1.0; total time=   0.1s\n",
      "[CV] END colsample_bytree=1.0, learning_rate=0.01, max_depth=5, min_child_weight=1, n_estimators=100, subsample=1.0; total time=   0.1s\n",
      "[CV] END colsample_bytree=1.0, learning_rate=0.01, max_depth=5, min_child_weight=1, n_estimators=200, subsample=0.7; total time=   0.3s\n",
      "[CV] END colsample_bytree=1.0, learning_rate=0.01, max_depth=5, min_child_weight=1, n_estimators=200, subsample=0.7; total time=   0.2s\n",
      "[CV] END colsample_bytree=1.0, learning_rate=0.01, max_depth=5, min_child_weight=1, n_estimators=200, subsample=0.7; total time=   0.3s\n",
      "[CV] END colsample_bytree=1.0, learning_rate=0.01, max_depth=5, min_child_weight=1, n_estimators=200, subsample=1.0; total time=   0.2s\n",
      "[CV] END colsample_bytree=1.0, learning_rate=0.01, max_depth=5, min_child_weight=1, n_estimators=200, subsample=1.0; total time=   0.2s\n",
      "[CV] END colsample_bytree=1.0, learning_rate=0.01, max_depth=5, min_child_weight=1, n_estimators=200, subsample=1.0; total time=   0.2s\n",
      "[CV] END colsample_bytree=1.0, learning_rate=0.01, max_depth=5, min_child_weight=3, n_estimators=100, subsample=0.7; total time=   0.1s\n",
      "[CV] END colsample_bytree=1.0, learning_rate=0.01, max_depth=5, min_child_weight=3, n_estimators=100, subsample=0.7; total time=   0.1s\n",
      "[CV] END colsample_bytree=1.0, learning_rate=0.01, max_depth=5, min_child_weight=3, n_estimators=100, subsample=0.7; total time=   0.1s\n",
      "[CV] END colsample_bytree=1.0, learning_rate=0.01, max_depth=5, min_child_weight=3, n_estimators=100, subsample=1.0; total time=   0.1s\n",
      "[CV] END colsample_bytree=1.0, learning_rate=0.01, max_depth=5, min_child_weight=3, n_estimators=100, subsample=1.0; total time=   0.1s\n",
      "[CV] END colsample_bytree=1.0, learning_rate=0.01, max_depth=5, min_child_weight=3, n_estimators=100, subsample=1.0; total time=   0.1s\n",
      "[CV] END colsample_bytree=1.0, learning_rate=0.01, max_depth=5, min_child_weight=3, n_estimators=200, subsample=0.7; total time=   0.2s\n",
      "[CV] END colsample_bytree=1.0, learning_rate=0.01, max_depth=5, min_child_weight=3, n_estimators=200, subsample=0.7; total time=   0.2s\n",
      "[CV] END colsample_bytree=1.0, learning_rate=0.01, max_depth=5, min_child_weight=3, n_estimators=200, subsample=0.7; total time=   0.2s\n",
      "[CV] END colsample_bytree=1.0, learning_rate=0.01, max_depth=5, min_child_weight=3, n_estimators=200, subsample=1.0; total time=   0.2s\n",
      "[CV] END colsample_bytree=1.0, learning_rate=0.01, max_depth=5, min_child_weight=3, n_estimators=200, subsample=1.0; total time=   0.2s\n",
      "[CV] END colsample_bytree=1.0, learning_rate=0.01, max_depth=5, min_child_weight=3, n_estimators=200, subsample=1.0; total time=   0.2s\n",
      "[CV] END colsample_bytree=1.0, learning_rate=0.1, max_depth=3, min_child_weight=1, n_estimators=100, subsample=0.7; total time=   0.1s\n",
      "[CV] END colsample_bytree=1.0, learning_rate=0.1, max_depth=3, min_child_weight=1, n_estimators=100, subsample=0.7; total time=   0.1s\n",
      "[CV] END colsample_bytree=1.0, learning_rate=0.1, max_depth=3, min_child_weight=1, n_estimators=100, subsample=0.7; total time=   0.1s\n",
      "[CV] END colsample_bytree=1.0, learning_rate=0.1, max_depth=3, min_child_weight=1, n_estimators=100, subsample=1.0; total time=   0.1s\n",
      "[CV] END colsample_bytree=1.0, learning_rate=0.1, max_depth=3, min_child_weight=1, n_estimators=100, subsample=1.0; total time=   0.1s\n",
      "[CV] END colsample_bytree=1.0, learning_rate=0.1, max_depth=3, min_child_weight=1, n_estimators=100, subsample=1.0; total time=   0.1s\n",
      "[CV] END colsample_bytree=1.0, learning_rate=0.1, max_depth=3, min_child_weight=1, n_estimators=200, subsample=0.7; total time=   0.1s\n",
      "[CV] END colsample_bytree=1.0, learning_rate=0.1, max_depth=3, min_child_weight=1, n_estimators=200, subsample=0.7; total time=   0.1s\n",
      "[CV] END colsample_bytree=1.0, learning_rate=0.1, max_depth=3, min_child_weight=1, n_estimators=200, subsample=0.7; total time=   0.1s\n",
      "[CV] END colsample_bytree=1.0, learning_rate=0.1, max_depth=3, min_child_weight=1, n_estimators=200, subsample=1.0; total time=   0.2s\n",
      "[CV] END colsample_bytree=1.0, learning_rate=0.1, max_depth=3, min_child_weight=1, n_estimators=200, subsample=1.0; total time=   0.1s\n",
      "[CV] END colsample_bytree=1.0, learning_rate=0.1, max_depth=3, min_child_weight=1, n_estimators=200, subsample=1.0; total time=   0.2s\n",
      "[CV] END colsample_bytree=1.0, learning_rate=0.1, max_depth=3, min_child_weight=3, n_estimators=100, subsample=0.7; total time=   0.1s\n",
      "[CV] END colsample_bytree=1.0, learning_rate=0.1, max_depth=3, min_child_weight=3, n_estimators=100, subsample=0.7; total time=   0.1s\n",
      "[CV] END colsample_bytree=1.0, learning_rate=0.1, max_depth=3, min_child_weight=3, n_estimators=100, subsample=0.7; total time=   0.1s\n",
      "[CV] END colsample_bytree=1.0, learning_rate=0.1, max_depth=3, min_child_weight=3, n_estimators=100, subsample=1.0; total time=   0.1s\n",
      "[CV] END colsample_bytree=1.0, learning_rate=0.1, max_depth=3, min_child_weight=3, n_estimators=100, subsample=1.0; total time=   0.1s\n",
      "[CV] END colsample_bytree=1.0, learning_rate=0.1, max_depth=3, min_child_weight=3, n_estimators=100, subsample=1.0; total time=   0.1s\n",
      "[CV] END colsample_bytree=1.0, learning_rate=0.1, max_depth=3, min_child_weight=3, n_estimators=200, subsample=0.7; total time=   0.2s\n",
      "[CV] END colsample_bytree=1.0, learning_rate=0.1, max_depth=3, min_child_weight=3, n_estimators=200, subsample=0.7; total time=   0.3s\n",
      "[CV] END colsample_bytree=1.0, learning_rate=0.1, max_depth=3, min_child_weight=3, n_estimators=200, subsample=0.7; total time=   0.1s\n",
      "[CV] END colsample_bytree=1.0, learning_rate=0.1, max_depth=3, min_child_weight=3, n_estimators=200, subsample=1.0; total time=   0.1s\n",
      "[CV] END colsample_bytree=1.0, learning_rate=0.1, max_depth=3, min_child_weight=3, n_estimators=200, subsample=1.0; total time=   0.1s\n",
      "[CV] END colsample_bytree=1.0, learning_rate=0.1, max_depth=3, min_child_weight=3, n_estimators=200, subsample=1.0; total time=   0.1s\n",
      "[CV] END colsample_bytree=1.0, learning_rate=0.1, max_depth=5, min_child_weight=1, n_estimators=100, subsample=0.7; total time=   0.1s\n",
      "[CV] END colsample_bytree=1.0, learning_rate=0.1, max_depth=5, min_child_weight=1, n_estimators=100, subsample=0.7; total time=   0.2s\n",
      "[CV] END colsample_bytree=1.0, learning_rate=0.1, max_depth=5, min_child_weight=1, n_estimators=100, subsample=0.7; total time=   0.1s\n",
      "[CV] END colsample_bytree=1.0, learning_rate=0.1, max_depth=5, min_child_weight=1, n_estimators=100, subsample=1.0; total time=   0.1s\n",
      "[CV] END colsample_bytree=1.0, learning_rate=0.1, max_depth=5, min_child_weight=1, n_estimators=100, subsample=1.0; total time=   0.1s\n",
      "[CV] END colsample_bytree=1.0, learning_rate=0.1, max_depth=5, min_child_weight=1, n_estimators=100, subsample=1.0; total time=   0.1s\n",
      "[CV] END colsample_bytree=1.0, learning_rate=0.1, max_depth=5, min_child_weight=1, n_estimators=200, subsample=0.7; total time=   0.3s\n",
      "[CV] END colsample_bytree=1.0, learning_rate=0.1, max_depth=5, min_child_weight=1, n_estimators=200, subsample=0.7; total time=   0.5s\n",
      "[CV] END colsample_bytree=1.0, learning_rate=0.1, max_depth=5, min_child_weight=1, n_estimators=200, subsample=0.7; total time=   0.3s\n",
      "[CV] END colsample_bytree=1.0, learning_rate=0.1, max_depth=5, min_child_weight=1, n_estimators=200, subsample=1.0; total time=   0.3s\n",
      "[CV] END colsample_bytree=1.0, learning_rate=0.1, max_depth=5, min_child_weight=1, n_estimators=200, subsample=1.0; total time=   0.3s\n",
      "[CV] END colsample_bytree=1.0, learning_rate=0.1, max_depth=5, min_child_weight=1, n_estimators=200, subsample=1.0; total time=   0.2s\n",
      "[CV] END colsample_bytree=1.0, learning_rate=0.1, max_depth=5, min_child_weight=3, n_estimators=100, subsample=0.7; total time=   0.1s\n",
      "[CV] END colsample_bytree=1.0, learning_rate=0.1, max_depth=5, min_child_weight=3, n_estimators=100, subsample=0.7; total time=   0.1s\n",
      "[CV] END colsample_bytree=1.0, learning_rate=0.1, max_depth=5, min_child_weight=3, n_estimators=100, subsample=0.7; total time=   0.2s\n",
      "[CV] END colsample_bytree=1.0, learning_rate=0.1, max_depth=5, min_child_weight=3, n_estimators=100, subsample=1.0; total time=   0.1s\n",
      "[CV] END colsample_bytree=1.0, learning_rate=0.1, max_depth=5, min_child_weight=3, n_estimators=100, subsample=1.0; total time=   0.1s\n",
      "[CV] END colsample_bytree=1.0, learning_rate=0.1, max_depth=5, min_child_weight=3, n_estimators=100, subsample=1.0; total time=   0.1s\n",
      "[CV] END colsample_bytree=1.0, learning_rate=0.1, max_depth=5, min_child_weight=3, n_estimators=200, subsample=0.7; total time=   0.3s\n",
      "[CV] END colsample_bytree=1.0, learning_rate=0.1, max_depth=5, min_child_weight=3, n_estimators=200, subsample=0.7; total time=   0.2s\n",
      "[CV] END colsample_bytree=1.0, learning_rate=0.1, max_depth=5, min_child_weight=3, n_estimators=200, subsample=0.7; total time=   0.3s\n",
      "[CV] END colsample_bytree=1.0, learning_rate=0.1, max_depth=5, min_child_weight=3, n_estimators=200, subsample=1.0; total time=   0.2s\n",
      "[CV] END colsample_bytree=1.0, learning_rate=0.1, max_depth=5, min_child_weight=3, n_estimators=200, subsample=1.0; total time=   0.2s\n",
      "[CV] END colsample_bytree=1.0, learning_rate=0.1, max_depth=5, min_child_weight=3, n_estimators=200, subsample=1.0; total time=   0.2s\n"
     ]
    },
    {
     "data": {
      "text/html": [
       "<style>#sk-container-id-4 {color: black;background-color: white;}#sk-container-id-4 pre{padding: 0;}#sk-container-id-4 div.sk-toggleable {background-color: white;}#sk-container-id-4 label.sk-toggleable__label {cursor: pointer;display: block;width: 100%;margin-bottom: 0;padding: 0.3em;box-sizing: border-box;text-align: center;}#sk-container-id-4 label.sk-toggleable__label-arrow:before {content: \"▸\";float: left;margin-right: 0.25em;color: #696969;}#sk-container-id-4 label.sk-toggleable__label-arrow:hover:before {color: black;}#sk-container-id-4 div.sk-estimator:hover label.sk-toggleable__label-arrow:before {color: black;}#sk-container-id-4 div.sk-toggleable__content {max-height: 0;max-width: 0;overflow: hidden;text-align: left;background-color: #f0f8ff;}#sk-container-id-4 div.sk-toggleable__content pre {margin: 0.2em;color: black;border-radius: 0.25em;background-color: #f0f8ff;}#sk-container-id-4 input.sk-toggleable__control:checked~div.sk-toggleable__content {max-height: 200px;max-width: 100%;overflow: auto;}#sk-container-id-4 input.sk-toggleable__control:checked~label.sk-toggleable__label-arrow:before {content: \"▾\";}#sk-container-id-4 div.sk-estimator input.sk-toggleable__control:checked~label.sk-toggleable__label {background-color: #d4ebff;}#sk-container-id-4 div.sk-label input.sk-toggleable__control:checked~label.sk-toggleable__label {background-color: #d4ebff;}#sk-container-id-4 input.sk-hidden--visually {border: 0;clip: rect(1px 1px 1px 1px);clip: rect(1px, 1px, 1px, 1px);height: 1px;margin: -1px;overflow: hidden;padding: 0;position: absolute;width: 1px;}#sk-container-id-4 div.sk-estimator {font-family: monospace;background-color: #f0f8ff;border: 1px dotted black;border-radius: 0.25em;box-sizing: border-box;margin-bottom: 0.5em;}#sk-container-id-4 div.sk-estimator:hover {background-color: #d4ebff;}#sk-container-id-4 div.sk-parallel-item::after {content: \"\";width: 100%;border-bottom: 1px solid gray;flex-grow: 1;}#sk-container-id-4 div.sk-label:hover label.sk-toggleable__label {background-color: #d4ebff;}#sk-container-id-4 div.sk-serial::before {content: \"\";position: absolute;border-left: 1px solid gray;box-sizing: border-box;top: 0;bottom: 0;left: 50%;z-index: 0;}#sk-container-id-4 div.sk-serial {display: flex;flex-direction: column;align-items: center;background-color: white;padding-right: 0.2em;padding-left: 0.2em;position: relative;}#sk-container-id-4 div.sk-item {position: relative;z-index: 1;}#sk-container-id-4 div.sk-parallel {display: flex;align-items: stretch;justify-content: center;background-color: white;position: relative;}#sk-container-id-4 div.sk-item::before, #sk-container-id-4 div.sk-parallel-item::before {content: \"\";position: absolute;border-left: 1px solid gray;box-sizing: border-box;top: 0;bottom: 0;left: 50%;z-index: -1;}#sk-container-id-4 div.sk-parallel-item {display: flex;flex-direction: column;z-index: 1;position: relative;background-color: white;}#sk-container-id-4 div.sk-parallel-item:first-child::after {align-self: flex-end;width: 50%;}#sk-container-id-4 div.sk-parallel-item:last-child::after {align-self: flex-start;width: 50%;}#sk-container-id-4 div.sk-parallel-item:only-child::after {width: 0;}#sk-container-id-4 div.sk-dashed-wrapped {border: 1px dashed gray;margin: 0 0.4em 0.5em 0.4em;box-sizing: border-box;padding-bottom: 0.4em;background-color: white;}#sk-container-id-4 div.sk-label label {font-family: monospace;font-weight: bold;display: inline-block;line-height: 1.2em;}#sk-container-id-4 div.sk-label-container {text-align: center;}#sk-container-id-4 div.sk-container {/* jupyter's `normalize.less` sets `[hidden] { display: none; }` but bootstrap.min.css set `[hidden] { display: none !important; }` so we also need the `!important` here to be able to override the default hidden behavior on the sphinx rendered scikit-learn.org. See: https://github.com/scikit-learn/scikit-learn/issues/21755 */display: inline-block !important;position: relative;}#sk-container-id-4 div.sk-text-repr-fallback {display: none;}</style><div id=\"sk-container-id-4\" class=\"sk-top-container\"><div class=\"sk-text-repr-fallback\"><pre>GridSearchCV(cv=3,\n",
       "             estimator=XGBRegressor(base_score=None, booster=None,\n",
       "                                    callbacks=None, colsample_bylevel=None,\n",
       "                                    colsample_bynode=None,\n",
       "                                    colsample_bytree=None, device=None,\n",
       "                                    early_stopping_rounds=None,\n",
       "                                    enable_categorical=False, eval_metric=None,\n",
       "                                    feature_types=None, gamma=None,\n",
       "                                    grow_policy=None, importance_type=None,\n",
       "                                    interaction_constraints=None,\n",
       "                                    learning_rate=None, m...\n",
       "                                    min_child_weight=None, missing=nan,\n",
       "                                    monotone_constraints=None,\n",
       "                                    multi_strategy=None, n_estimators=None,\n",
       "                                    n_jobs=None, num_parallel_tree=None,\n",
       "                                    random_state=None, ...),\n",
       "             param_grid={&#x27;colsample_bytree&#x27;: [0.7, 1.0],\n",
       "                         &#x27;learning_rate&#x27;: [0.01, 0.1], &#x27;max_depth&#x27;: [3, 5],\n",
       "                         &#x27;min_child_weight&#x27;: [1, 3], &#x27;n_estimators&#x27;: [100, 200],\n",
       "                         &#x27;subsample&#x27;: [0.7, 1.0]},\n",
       "             scoring=&#x27;neg_mean_squared_error&#x27;, verbose=2)</pre><b>In a Jupyter environment, please rerun this cell to show the HTML representation or trust the notebook. <br />On GitHub, the HTML representation is unable to render, please try loading this page with nbviewer.org.</b></div><div class=\"sk-container\" hidden><div class=\"sk-item sk-dashed-wrapped\"><div class=\"sk-label-container\"><div class=\"sk-label sk-toggleable\"><input class=\"sk-toggleable__control sk-hidden--visually\" id=\"sk-estimator-id-4\" type=\"checkbox\" ><label for=\"sk-estimator-id-4\" class=\"sk-toggleable__label sk-toggleable__label-arrow\">GridSearchCV</label><div class=\"sk-toggleable__content\"><pre>GridSearchCV(cv=3,\n",
       "             estimator=XGBRegressor(base_score=None, booster=None,\n",
       "                                    callbacks=None, colsample_bylevel=None,\n",
       "                                    colsample_bynode=None,\n",
       "                                    colsample_bytree=None, device=None,\n",
       "                                    early_stopping_rounds=None,\n",
       "                                    enable_categorical=False, eval_metric=None,\n",
       "                                    feature_types=None, gamma=None,\n",
       "                                    grow_policy=None, importance_type=None,\n",
       "                                    interaction_constraints=None,\n",
       "                                    learning_rate=None, m...\n",
       "                                    min_child_weight=None, missing=nan,\n",
       "                                    monotone_constraints=None,\n",
       "                                    multi_strategy=None, n_estimators=None,\n",
       "                                    n_jobs=None, num_parallel_tree=None,\n",
       "                                    random_state=None, ...),\n",
       "             param_grid={&#x27;colsample_bytree&#x27;: [0.7, 1.0],\n",
       "                         &#x27;learning_rate&#x27;: [0.01, 0.1], &#x27;max_depth&#x27;: [3, 5],\n",
       "                         &#x27;min_child_weight&#x27;: [1, 3], &#x27;n_estimators&#x27;: [100, 200],\n",
       "                         &#x27;subsample&#x27;: [0.7, 1.0]},\n",
       "             scoring=&#x27;neg_mean_squared_error&#x27;, verbose=2)</pre></div></div></div><div class=\"sk-parallel\"><div class=\"sk-parallel-item\"><div class=\"sk-item\"><div class=\"sk-label-container\"><div class=\"sk-label sk-toggleable\"><input class=\"sk-toggleable__control sk-hidden--visually\" id=\"sk-estimator-id-5\" type=\"checkbox\" ><label for=\"sk-estimator-id-5\" class=\"sk-toggleable__label sk-toggleable__label-arrow\">estimator: XGBRegressor</label><div class=\"sk-toggleable__content\"><pre>XGBRegressor(base_score=None, booster=None, callbacks=None,\n",
       "             colsample_bylevel=None, colsample_bynode=None,\n",
       "             colsample_bytree=None, device=None, early_stopping_rounds=None,\n",
       "             enable_categorical=False, eval_metric=None, feature_types=None,\n",
       "             gamma=None, grow_policy=None, importance_type=None,\n",
       "             interaction_constraints=None, learning_rate=None, max_bin=None,\n",
       "             max_cat_threshold=None, max_cat_to_onehot=None,\n",
       "             max_delta_step=None, max_depth=None, max_leaves=None,\n",
       "             min_child_weight=None, missing=nan, monotone_constraints=None,\n",
       "             multi_strategy=None, n_estimators=None, n_jobs=None,\n",
       "             num_parallel_tree=None, random_state=None, ...)</pre></div></div></div><div class=\"sk-serial\"><div class=\"sk-item\"><div class=\"sk-estimator sk-toggleable\"><input class=\"sk-toggleable__control sk-hidden--visually\" id=\"sk-estimator-id-6\" type=\"checkbox\" ><label for=\"sk-estimator-id-6\" class=\"sk-toggleable__label sk-toggleable__label-arrow\">XGBRegressor</label><div class=\"sk-toggleable__content\"><pre>XGBRegressor(base_score=None, booster=None, callbacks=None,\n",
       "             colsample_bylevel=None, colsample_bynode=None,\n",
       "             colsample_bytree=None, device=None, early_stopping_rounds=None,\n",
       "             enable_categorical=False, eval_metric=None, feature_types=None,\n",
       "             gamma=None, grow_policy=None, importance_type=None,\n",
       "             interaction_constraints=None, learning_rate=None, max_bin=None,\n",
       "             max_cat_threshold=None, max_cat_to_onehot=None,\n",
       "             max_delta_step=None, max_depth=None, max_leaves=None,\n",
       "             min_child_weight=None, missing=nan, monotone_constraints=None,\n",
       "             multi_strategy=None, n_estimators=None, n_jobs=None,\n",
       "             num_parallel_tree=None, random_state=None, ...)</pre></div></div></div></div></div></div></div></div></div></div>"
      ],
      "text/plain": [
       "GridSearchCV(cv=3,\n",
       "             estimator=XGBRegressor(base_score=None, booster=None,\n",
       "                                    callbacks=None, colsample_bylevel=None,\n",
       "                                    colsample_bynode=None,\n",
       "                                    colsample_bytree=None, device=None,\n",
       "                                    early_stopping_rounds=None,\n",
       "                                    enable_categorical=False, eval_metric=None,\n",
       "                                    feature_types=None, gamma=None,\n",
       "                                    grow_policy=None, importance_type=None,\n",
       "                                    interaction_constraints=None,\n",
       "                                    learning_rate=None, m...\n",
       "                                    min_child_weight=None, missing=nan,\n",
       "                                    monotone_constraints=None,\n",
       "                                    multi_strategy=None, n_estimators=None,\n",
       "                                    n_jobs=None, num_parallel_tree=None,\n",
       "                                    random_state=None, ...),\n",
       "             param_grid={'colsample_bytree': [0.7, 1.0],\n",
       "                         'learning_rate': [0.01, 0.1], 'max_depth': [3, 5],\n",
       "                         'min_child_weight': [1, 3], 'n_estimators': [100, 200],\n",
       "                         'subsample': [0.7, 1.0]},\n",
       "             scoring='neg_mean_squared_error', verbose=2)"
      ]
     },
     "execution_count": 86,
     "metadata": {},
     "output_type": "execute_result"
    }
   ],
   "source": [
    "grid_search = GridSearchCV(estimator=xgb, param_grid=param_grid, scoring='neg_mean_squared_error', cv=3, verbose=2)\n",
    "grid_search.fit(X_train_split, y_train_split)"
   ]
  },
  {
   "cell_type": "code",
   "execution_count": 87,
   "id": "63db7c2a-694b-445b-8490-16caf69cefad",
   "metadata": {},
   "outputs": [],
   "source": [
    "# Best parameters and model\n",
    "best_params = grid_search.best_params_\n",
    "best_model = grid_search.best_estimator_"
   ]
  },
  {
   "cell_type": "code",
   "execution_count": 88,
   "id": "605e57d0-34f2-4b59-a132-29af51092835",
   "metadata": {},
   "outputs": [
    {
     "name": "stdout",
     "output_type": "stream",
     "text": [
      "Best parameters: {'colsample_bytree': 0.7, 'learning_rate': 0.01, 'max_depth': 5, 'min_child_weight': 1, 'n_estimators': 200, 'subsample': 1.0}\n",
      "Validation MSE: 1443.7185930621974\n"
     ]
    }
   ],
   "source": [
    "# Evaluate on validation set\n",
    "val_predictions = best_model.predict(X_val)\n",
    "mse = mean_squared_error(y_val, val_predictions)\n",
    "print(f\"Best parameters: {best_params}\")\n",
    "print(f\"Validation MSE: {mse}\")"
   ]
  },
  {
   "cell_type": "code",
   "execution_count": 89,
   "id": "4410865f-52d1-41c8-9684-3a5461f433da",
   "metadata": {},
   "outputs": [
    {
     "data": {
      "text/html": [
       "<style>#sk-container-id-5 {color: black;background-color: white;}#sk-container-id-5 pre{padding: 0;}#sk-container-id-5 div.sk-toggleable {background-color: white;}#sk-container-id-5 label.sk-toggleable__label {cursor: pointer;display: block;width: 100%;margin-bottom: 0;padding: 0.3em;box-sizing: border-box;text-align: center;}#sk-container-id-5 label.sk-toggleable__label-arrow:before {content: \"▸\";float: left;margin-right: 0.25em;color: #696969;}#sk-container-id-5 label.sk-toggleable__label-arrow:hover:before {color: black;}#sk-container-id-5 div.sk-estimator:hover label.sk-toggleable__label-arrow:before {color: black;}#sk-container-id-5 div.sk-toggleable__content {max-height: 0;max-width: 0;overflow: hidden;text-align: left;background-color: #f0f8ff;}#sk-container-id-5 div.sk-toggleable__content pre {margin: 0.2em;color: black;border-radius: 0.25em;background-color: #f0f8ff;}#sk-container-id-5 input.sk-toggleable__control:checked~div.sk-toggleable__content {max-height: 200px;max-width: 100%;overflow: auto;}#sk-container-id-5 input.sk-toggleable__control:checked~label.sk-toggleable__label-arrow:before {content: \"▾\";}#sk-container-id-5 div.sk-estimator input.sk-toggleable__control:checked~label.sk-toggleable__label {background-color: #d4ebff;}#sk-container-id-5 div.sk-label input.sk-toggleable__control:checked~label.sk-toggleable__label {background-color: #d4ebff;}#sk-container-id-5 input.sk-hidden--visually {border: 0;clip: rect(1px 1px 1px 1px);clip: rect(1px, 1px, 1px, 1px);height: 1px;margin: -1px;overflow: hidden;padding: 0;position: absolute;width: 1px;}#sk-container-id-5 div.sk-estimator {font-family: monospace;background-color: #f0f8ff;border: 1px dotted black;border-radius: 0.25em;box-sizing: border-box;margin-bottom: 0.5em;}#sk-container-id-5 div.sk-estimator:hover {background-color: #d4ebff;}#sk-container-id-5 div.sk-parallel-item::after {content: \"\";width: 100%;border-bottom: 1px solid gray;flex-grow: 1;}#sk-container-id-5 div.sk-label:hover label.sk-toggleable__label {background-color: #d4ebff;}#sk-container-id-5 div.sk-serial::before {content: \"\";position: absolute;border-left: 1px solid gray;box-sizing: border-box;top: 0;bottom: 0;left: 50%;z-index: 0;}#sk-container-id-5 div.sk-serial {display: flex;flex-direction: column;align-items: center;background-color: white;padding-right: 0.2em;padding-left: 0.2em;position: relative;}#sk-container-id-5 div.sk-item {position: relative;z-index: 1;}#sk-container-id-5 div.sk-parallel {display: flex;align-items: stretch;justify-content: center;background-color: white;position: relative;}#sk-container-id-5 div.sk-item::before, #sk-container-id-5 div.sk-parallel-item::before {content: \"\";position: absolute;border-left: 1px solid gray;box-sizing: border-box;top: 0;bottom: 0;left: 50%;z-index: -1;}#sk-container-id-5 div.sk-parallel-item {display: flex;flex-direction: column;z-index: 1;position: relative;background-color: white;}#sk-container-id-5 div.sk-parallel-item:first-child::after {align-self: flex-end;width: 50%;}#sk-container-id-5 div.sk-parallel-item:last-child::after {align-self: flex-start;width: 50%;}#sk-container-id-5 div.sk-parallel-item:only-child::after {width: 0;}#sk-container-id-5 div.sk-dashed-wrapped {border: 1px dashed gray;margin: 0 0.4em 0.5em 0.4em;box-sizing: border-box;padding-bottom: 0.4em;background-color: white;}#sk-container-id-5 div.sk-label label {font-family: monospace;font-weight: bold;display: inline-block;line-height: 1.2em;}#sk-container-id-5 div.sk-label-container {text-align: center;}#sk-container-id-5 div.sk-container {/* jupyter's `normalize.less` sets `[hidden] { display: none; }` but bootstrap.min.css set `[hidden] { display: none !important; }` so we also need the `!important` here to be able to override the default hidden behavior on the sphinx rendered scikit-learn.org. See: https://github.com/scikit-learn/scikit-learn/issues/21755 */display: inline-block !important;position: relative;}#sk-container-id-5 div.sk-text-repr-fallback {display: none;}</style><div id=\"sk-container-id-5\" class=\"sk-top-container\"><div class=\"sk-text-repr-fallback\"><pre>XGBRegressor(base_score=None, booster=None, callbacks=None,\n",
       "             colsample_bylevel=None, colsample_bynode=None,\n",
       "             colsample_bytree=0.7, device=None, early_stopping_rounds=None,\n",
       "             enable_categorical=False, eval_metric=None, feature_types=None,\n",
       "             gamma=None, grow_policy=None, importance_type=None,\n",
       "             interaction_constraints=None, learning_rate=0.01, max_bin=None,\n",
       "             max_cat_threshold=None, max_cat_to_onehot=None,\n",
       "             max_delta_step=None, max_depth=5, max_leaves=None,\n",
       "             min_child_weight=1, missing=nan, monotone_constraints=None,\n",
       "             multi_strategy=None, n_estimators=200, n_jobs=None,\n",
       "             num_parallel_tree=None, random_state=None, ...)</pre><b>In a Jupyter environment, please rerun this cell to show the HTML representation or trust the notebook. <br />On GitHub, the HTML representation is unable to render, please try loading this page with nbviewer.org.</b></div><div class=\"sk-container\" hidden><div class=\"sk-item\"><div class=\"sk-estimator sk-toggleable\"><input class=\"sk-toggleable__control sk-hidden--visually\" id=\"sk-estimator-id-7\" type=\"checkbox\" checked><label for=\"sk-estimator-id-7\" class=\"sk-toggleable__label sk-toggleable__label-arrow\">XGBRegressor</label><div class=\"sk-toggleable__content\"><pre>XGBRegressor(base_score=None, booster=None, callbacks=None,\n",
       "             colsample_bylevel=None, colsample_bynode=None,\n",
       "             colsample_bytree=0.7, device=None, early_stopping_rounds=None,\n",
       "             enable_categorical=False, eval_metric=None, feature_types=None,\n",
       "             gamma=None, grow_policy=None, importance_type=None,\n",
       "             interaction_constraints=None, learning_rate=0.01, max_bin=None,\n",
       "             max_cat_threshold=None, max_cat_to_onehot=None,\n",
       "             max_delta_step=None, max_depth=5, max_leaves=None,\n",
       "             min_child_weight=1, missing=nan, monotone_constraints=None,\n",
       "             multi_strategy=None, n_estimators=200, n_jobs=None,\n",
       "             num_parallel_tree=None, random_state=None, ...)</pre></div></div></div></div></div>"
      ],
      "text/plain": [
       "XGBRegressor(base_score=None, booster=None, callbacks=None,\n",
       "             colsample_bylevel=None, colsample_bynode=None,\n",
       "             colsample_bytree=0.7, device=None, early_stopping_rounds=None,\n",
       "             enable_categorical=False, eval_metric=None, feature_types=None,\n",
       "             gamma=None, grow_policy=None, importance_type=None,\n",
       "             interaction_constraints=None, learning_rate=0.01, max_bin=None,\n",
       "             max_cat_threshold=None, max_cat_to_onehot=None,\n",
       "             max_delta_step=None, max_depth=5, max_leaves=None,\n",
       "             min_child_weight=1, missing=nan, monotone_constraints=None,\n",
       "             multi_strategy=None, n_estimators=200, n_jobs=None,\n",
       "             num_parallel_tree=None, random_state=None, ...)"
      ]
     },
     "execution_count": 89,
     "metadata": {},
     "output_type": "execute_result"
    }
   ],
   "source": [
    "best_model.fit(X_train, y_train)"
   ]
  },
  {
   "cell_type": "code",
   "execution_count": 90,
   "id": "fac4345c-f21b-4035-8d9e-db319c0ebb97",
   "metadata": {},
   "outputs": [],
   "source": [
    "#test data predictions\n",
    "X_test = test_df[features]\n",
    "test_predictions = best_model.predict(X_test)"
   ]
  },
  {
   "cell_type": "code",
   "execution_count": 92,
   "id": "d670d090-7ddf-45f3-8b0c-fd482e963768",
   "metadata": {},
   "outputs": [],
   "source": [
    "submission = pd.DataFrame({'ID': test_df['ID'], 'Target': test_predictions})\n",
    "submission.to_csv('submission1.csv', index=False)"
   ]
  },
  {
   "cell_type": "code",
   "execution_count": null,
   "id": "5dbbc885-4133-4927-92b3-f9043d257e7f",
   "metadata": {},
   "outputs": [],
   "source": []
  }
 ],
 "metadata": {
  "kernelspec": {
   "display_name": "Python 3 (ipykernel)",
   "language": "python",
   "name": "python3"
  },
  "language_info": {
   "codemirror_mode": {
    "name": "ipython",
    "version": 3
   },
   "file_extension": ".py",
   "mimetype": "text/x-python",
   "name": "python",
   "nbconvert_exporter": "python",
   "pygments_lexer": "ipython3",
   "version": "3.11.7"
  }
 },
 "nbformat": 4,
 "nbformat_minor": 5
}
